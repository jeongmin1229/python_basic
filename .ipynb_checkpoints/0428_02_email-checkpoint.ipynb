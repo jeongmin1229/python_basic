{
 "cells": [
  {
   "cell_type": "code",
   "execution_count": null,
   "id": "ee94544c",
   "metadata": {},
   "outputs": [],
   "source": [
    "import smtplib\n",
    "from email.mime.text import MIMEText\n",
    "from email.mime.multipart import MIMEMultipart\n",
    "from email.mime.base import MIMEBase\n",
    "\n",
    "# 세션생성, 로그인\n",
    "s = smtplib.SMTP('smtp.gmail.com', 587)\n",
    "s.starttls()\n",
    "s.login('ggoreb.kim@gmail.com', 'upncasjbhguuouvz')\n",
    "\n",
    "# 제목, 본문 작성\n",
    "msg = MIMEMultipart()\n",
    "msg['Subject'] = '제목'\n",
    "msg.attach(MIMEText(text, 'html'))\n",
    "\n",
    "# 메일 전송(발신자, 수신자, 메시지)\n",
    "s.sendmail('ggoreb.kim@gmail.com', 'top1229@naver.com', msg.as_string())\n",
    "s.quit()"
   ]
  }
 ],
 "metadata": {
  "kernelspec": {
   "display_name": "Python 3 (ipykernel)",
   "language": "python",
   "name": "python3"
  },
  "language_info": {
   "codemirror_mode": {
    "name": "ipython",
    "version": 3
   },
   "file_extension": ".py",
   "mimetype": "text/x-python",
   "name": "python",
   "nbconvert_exporter": "python",
   "pygments_lexer": "ipython3",
   "version": "3.9.7"
  }
 },
 "nbformat": 4,
 "nbformat_minor": 5
}
