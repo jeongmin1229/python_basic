{
 "cells": [
  {
   "cell_type": "code",
   "execution_count": 9,
   "id": "677fdf74",
   "metadata": {},
   "outputs": [
    {
     "name": "stdout",
     "output_type": "stream",
     "text": [
      "*\n",
      "**\n",
      "***\n",
      "****\n",
      "*****\n"
     ]
    }
   ],
   "source": [
    "for i in range(5):\n",
    "    for j in range(5):\n",
    "        if i>=j:\n",
    "            print('*',end='')\n",
    "    print('')"
   ]
  },
  {
   "cell_type": "code",
   "execution_count": 14,
   "id": "024c3bf9",
   "metadata": {},
   "outputs": [
    {
     "name": "stdout",
     "output_type": "stream",
     "text": [
      "    *\n",
      "   **\n",
      "  ***\n",
      " ****\n",
      "*****\n"
     ]
    }
   ],
   "source": [
    "n = 5\n",
    "for i in range(1, n+1):\n",
    "    space = n - i\n",
    "    print(' '*space, end='')\n",
    "    print('*'*i)"
   ]
  },
  {
   "cell_type": "code",
   "execution_count": 31,
   "id": "bb3a396c",
   "metadata": {},
   "outputs": [
    {
     "name": "stdout",
     "output_type": "stream",
     "text": [
      "*****\n",
      "****\n",
      "***\n",
      "**\n",
      "*\n"
     ]
    }
   ],
   "source": [
    "n = 5\n",
    "for i in range(5):\n",
    "    for j in range(5):\n",
    "        if i<=j:\n",
    "            print('*',end='')\n",
    "    print()"
   ]
  },
  {
   "cell_type": "markdown",
   "id": "a4213093",
   "metadata": {},
   "source": [
    "# "
   ]
  },
  {
   "cell_type": "code",
   "execution_count": 44,
   "id": "63d63ce0",
   "metadata": {},
   "outputs": [
    {
     "name": "stdout",
     "output_type": "stream",
     "text": [
      "*****\n",
      " ****\n",
      "  ***\n",
      "   **\n",
      "    *\n"
     ]
    }
   ],
   "source": [
    "n = 5\n",
    "for i in range(0, n):\n",
    "    star = n - i\n",
    "    print(' '*i, end='')\n",
    "    print('*'*star)"
   ]
  },
  {
   "cell_type": "markdown",
   "id": "0b54c740",
   "metadata": {},
   "source": [
    "# 생성/열기 : open()\n",
    "## 파일객체 = open('파일명', '모드')"
   ]
  },
  {
   "cell_type": "code",
   "execution_count": 34,
   "id": "990c7331",
   "metadata": {},
   "outputs": [
    {
     "name": "stdout",
     "output_type": "stream",
     "text": [
      "test\n"
     ]
    }
   ],
   "source": [
    "file = open('c:/python/test.txt', 'r')\n",
    "print(file.read())\n",
    "file.close() # 파일을 열었으면 꼭 닫아준다."
   ]
  },
  {
   "cell_type": "code",
   "execution_count": 35,
   "id": "3774a974",
   "metadata": {},
   "outputs": [],
   "source": [
    "f = open('c:/python/0426_database.ipynb', 'rt', encoding=\"UTF-8\") # 텍스트모드로 읽겠다."
   ]
  },
  {
   "cell_type": "code",
   "execution_count": 36,
   "id": "5f2a1211",
   "metadata": {},
   "outputs": [],
   "source": [
    "text = f.read()"
   ]
  },
  {
   "cell_type": "code",
   "execution_count": 38,
   "id": "7298acfc",
   "metadata": {},
   "outputs": [
    {
     "name": "stdout",
     "output_type": "stream",
     "text": [
      "{\n",
      " \"cells\": [\n",
      "  {\n",
      "   \"cell_type\": \"code\",\n",
      "   \"execution_count\": 2,\n",
      "   \"id\": \"001dcb5b\",\n",
      "   \"metadata\": {},\n",
      "   \"outputs\": [],\n",
      "   \"source\": [\n",
      "    \"import cx_Oracle\\n\",\n",
      "    \"dsn = cx_Oracle.makedsn('localhost', 1521, 'orcljm')\\n\",\n",
      "    \"db = cx_Oracle.connect('system', '1234', dsn)\\n\",\n",
      "    \"\\n\",\n",
      "    \"sql = '''\\n\",\n",
      "    \"    select * from emp\\n\",\n",
      "    \"'''\"\n",
      "   ]\n",
      "  },\n",
      "  {\n",
      "   \"cell_type\": \"code\",\n",
      "   \"execution_count\": 3,\n",
      "   \"id\": \"443fa66d\",\n",
      "   \"metadata\": {},\n",
      "   \"outputs\": [\n",
      "    {\n",
      "     \"data\": {\n",
      "      \"text/html\": [\n",
      "       \"<div>\\n\",\n",
      "       \"<style scoped>\\n\",\n",
      "       \"    .dataframe tbody tr th:only-of-type {\\n\",\n",
      "       \"        vertical-align: middle;\\n\",\n",
      "       \"    }\\n\",\n",
      "       \"\\n\",\n",
      "       \"    .dataframe tbody tr th {\\n\",\n",
      "       \"        vertical-align: top;\\n\",\n",
      "       \"    }\\n\",\n",
      "       \"\\n\",\n",
      "       \"    .dataframe thead th {\\n\",\n",
      "       \"        text-align: right;\\n\",\n",
      "       \"    }\\n\",\n",
      "       \"</style>\\n\",\n",
      "       \"<table border=\\\"1\\\" class=\\\"dataframe\\\">\\n\",\n",
      "       \"  <thead>\\n\",\n",
      "       \"    <tr style=\\\"text-align: right;\\\">\\n\",\n",
      "       \"      <th></th>\\n\",\n",
      "       \"      <th>EMPNO</th>\\n\",\n",
      "       \"      <th>ENAME</th>\\n\",\n",
      "       \"      <th>JOB</th>\\n\",\n",
      "       \"      <th>MGR</th>\\n\",\n",
      "       \"      <th>HIREDATE</th>\\n\",\n",
      "       \"      <th>SAL</th>\\n\",\n",
      "       \"      <th>COMM</th>\\n\",\n",
      "       \"      <th>DEPTNO</th>\\n\",\n",
      "       \"    </tr>\\n\",\n",
      "       \"  </thead>\\n\",\n",
      "       \"  <tbody>\\n\",\n",
      "       \"    <tr>\\n\",\n",
      "       \"      <th>0</th>\\n\",\n",
      "       \"      <td>9999</td>\\n\",\n",
      "       \"      <td>TEMP</td>\\n\",\n",
      "       \"      <td>None</td>\\n\",\n",
      "       \"      <td>NaN</td>\\n\",\n",
      "       \"      <td>NaT</td>\\n\",\n",
      "       \"      <td>1.0</td>\\n\",\n",
      "       \"      <td>NaN</td>\\n\",\n",
      "       \"      <td>NaN</td>\\n\",\n",
      "       \"    </tr>\\n\",\n",
      "       \"    <tr>\\n\",\n",
      "       \"      <th>1</th>\\n\",\n",
      "       \"      <td>7369</td>\\n\",\n",
      "       \"      <td>SMITH</td>\\n\",\n",
      "       \"      <td>CLERK</td>\\n\",\n",
      "       \"      <td>7902.0</td>\\n\",\n",
      "       \"      <td>1980-12-17</td>\\n\",\n",
      "       \"      <td>800.0</td>\\n\",\n",
      "       \"      <td>NaN</td>\\n\",\n",
      "       \"      <td>20.0</td>\\n\",\n",
      "       \"    </tr>\\n\",\n",
      "       \"    <tr>\\n\",\n",
      "       \"      <th>2</th>\\n\",\n",
      "       \"      <td>7499</td>\\n\",\n",
      "       \"      <td>ALLEN</td>\\n\",\n",
      "       \"      <td>SALESMAN</td>\\n\",\n",
      "       \"      <td>7698.0</td>\\n\",\n",
      "       \"      <td>1981-02-20</td>\\n\",\n",
      "       \"      <td>1600.0</td>\\n\",\n",
      "       \"      <td>300.0</td>\\n\",\n",
      "       \"      <td>30.0</td>\\n\",\n",
      "       \"    </tr>\\n\",\n",
      "       \"    <tr>\\n\",\n",
      "       \"      <th>3</th>\\n\",\n",
      "       \"      <td>7521</td>\\n\",\n",
      "       \"      <td>WARD</td>\\n\",\n",
      "       \"      <td>SALESMAN</td>\\n\",\n",
      "       \"      <td>7698.0</td>\\n\",\n",
      "       \"      <td>1981-02-22</td>\\n\",\n",
      "       \"      <td>1250.0</td>\\n\",\n",
      "       \"      <td>500.0</td>\\n\",\n",
      "       \"      <td>30.0</td>\\n\",\n",
      "       \"    </tr>\\n\",\n",
      "       \"    <tr>\\n\",\n",
      "       \"      <th>4</th>\\n\",\n",
      "       \"      <td>7566</td>\\n\",\n",
      "       \"      <td>JONES</td>\\n\",\n",
      "       \"      <td>MANAGER</td>\\n\",\n",
      "       \"      <td>7839.0</td>\\n\",\n",
      "       \"      <td>1981-04-02</td>\\n\",\n",
      "       \"      <td>2975.0</td>\\n\",\n",
      "       \"      <td>NaN</td>\\n\",\n",
      "       \"      <td>20.0</td>\\n\",\n",
      "       \"    </tr>\\n\",\n",
      "       \"  </tbody>\\n\",\n",
      "       \"</table>\\n\",\n",
      "       \"</div>\"\n",
      "      ],\n",
      "      \"text/plain\": [\n",
      "       \"   EMPNO  ENAME       JOB     MGR   HIREDATE     SAL   COMM  DEPTNO\\n\",\n",
      "       \"0   9999   TEMP      None     NaN        NaT     1.0    NaN     NaN\\n\",\n",
      "       \"1   7369  SMITH     CLERK  7902.0 1980-12-17   800.0    NaN    20.0\\n\",\n",
      "       \"2   7499  ALLEN  SALESMAN  7698.0 1981-02-20  1600.0  300.0    30.0\\n\",\n",
      "       \"3   7521   WARD  SALESMAN  7698.0 1981-02-22  1250.0  500.0    30.0\\n\",\n",
      "       \"4   7566  JONES   MANAGER  7839.0 1981-04-02  2975.0    NaN    20.0\"\n",
      "      ]\n",
      "     },\n",
      "     \"execution_count\": 3,\n",
      "     \"metadata\": {},\n",
      "     \"output_type\": \"execute_result\"\n",
      "    }\n",
      "   ],\n",
      "   \"source\": [\n",
      "    \"import pandas as pd\\n\",\n",
      "    \"data = pd.read_sql(sql, con=db)\\n\",\n",
      "    \"data.head()\"\n",
      "   ]\n",
      "  },\n",
      "  {\n",
      "   \"cell_type\": \"code\",\n",
      "   \"execution_count\": 5,\n",
      "   \"id\": \"42e04670\",\n",
      "   \"metadata\": {},\n",
      "   \"outputs\": [],\n",
      "   \"source\": [\n",
      "    \"data['HIREDATE'] = data['HIREDATE'].astype(str)\"\n",
      "   ]\n",
      "  },\n",
      "  {\n",
      "   \"cell_type\": \"code\",\n",
      "   \"execution_count\": 8,\n",
      "   \"id\": \"4bcf8c85\",\n",
      "   \"metadata\": {},\n",
      "   \"outputs\": [\n",
      "    {\n",
      "     \"name\": \"stdout\",\n",
      "     \"output_type\": \"stream\",\n",
      "     \"text\": [\n",
      "      \"<class 'pandas.core.frame.DataFrame'>\\n\",\n",
      "      \"RangeIndex: 15 entries, 0 to 14\\n\",\n",
      "      \"Data columns (total 8 columns):\\n\",\n",
      "      \" #   Column    Non-Null Count  Dtype  \\n\",\n",
      "      \"---  ------    --------------  -----  \\n\",\n",
      "      \" 0   EMPNO     15 non-null     int64  \\n\",\n",
      "      \" 1   ENAME     15 non-null     object \\n\",\n",
      "      \" 2   JOB       14 non-null     object \\n\",\n",
      "      \" 3   MGR       13 non-null     float64\\n\",\n",
      "      \" 4   HIREDATE  15 non-null     object \\n\",\n",
      "      \" 5   SAL       15 non-null     float64\\n\",\n",
      "      \" 6   COMM      4 non-null      float64\\n\",\n",
      "      \" 7   DEPTNO    14 non-null     float64\\n\",\n",
      "      \"dtypes: float64(4), int64(1), object(3)\\n\",\n",
      "      \"memory usage: 1.1+ KB\\n\"\n",
      "     ]\n",
      "    }\n",
      "   ],\n",
      "   \"source\": [\n",
      "    \"data.info()\"\n",
      "   ]\n",
      "  },\n",
      "  {\n",
      "   \"cell_type\": \"markdown\",\n",
      "   \"id\": \"0e326d67\",\n",
      "   \"metadata\": {},\n",
      "   \"source\": [\n",
      "    \"# \"\n",
      "   ]\n",
      "  },\n",
      "  {\n",
      "   \"cell_type\": \"markdown\",\n",
      "   \"id\": \"b500be0f\",\n",
      "   \"metadata\": {},\n",
      "   \"source\": [\n",
      "    \"# ListComprehension Lambda 사용\"\n",
      "   ]\n",
      "  },\n",
      "  {\n",
      "   \"cell_type\": \"code\",\n",
      "   \"execution_count\": null,\n",
      "   \"id\": \"90ae572a\",\n",
      "   \"metadata\": {},\n",
      "   \"outputs\": [],\n",
      "   \"source\": []\n",
      "  },\n",
      "  {\n",
      "   \"cell_type\": \"code\",\n",
      "   \"execution_count\": null,\n",
      "   \"id\": \"6962509a\",\n",
      "   \"metadata\": {},\n",
      "   \"outputs\": [],\n",
      "   \"source\": []\n",
      "  },\n",
      "  {\n",
      "   \"cell_type\": \"code\",\n",
      "   \"execution_count\": null,\n",
      "   \"id\": \"a1884566\",\n",
      "   \"metadata\": {},\n",
      "   \"outputs\": [],\n",
      "   \"source\": []\n",
      "  },\n",
      "  {\n",
      "   \"cell_type\": \"code\",\n",
      "   \"execution_count\": null,\n",
      "   \"id\": \"60160d50\",\n",
      "   \"metadata\": {},\n",
      "   \"outputs\": [],\n",
      "   \"source\": []\n",
      "  },\n",
      "  {\n",
      "   \"cell_type\": \"code\",\n",
      "   \"execution_count\": null,\n",
      "   \"id\": \"5b225cd3\",\n",
      "   \"metadata\": {},\n",
      "   \"outputs\": [],\n",
      "   \"source\": []\n",
      "  },\n",
      "  {\n",
      "   \"cell_type\": \"code\",\n",
      "   \"execution_count\": null,\n",
      "   \"id\": \"01e02470\",\n",
      "   \"metadata\": {},\n",
      "   \"outputs\": [],\n",
      "   \"source\": []\n",
      "  },\n",
      "  {\n",
      "   \"cell_type\": \"code\",\n",
      "   \"execution_count\": null,\n",
      "   \"id\": \"303fc66a\",\n",
      "   \"metadata\": {},\n",
      "   \"outputs\": [],\n",
      "   \"source\": []\n",
      "  }\n",
      " ],\n",
      " \"metadata\": {\n",
      "  \"kernelspec\": {\n",
      "   \"display_name\": \"Python 3 (ipykernel)\",\n",
      "   \"language\": \"python\",\n",
      "   \"name\": \"python3\"\n",
      "  },\n",
      "  \"language_info\": {\n",
      "   \"codemirror_mode\": {\n",
      "    \"name\": \"ipython\",\n",
      "    \"version\": 3\n",
      "   },\n",
      "   \"file_extension\": \".py\",\n",
      "   \"mimetype\": \"text/x-python\",\n",
      "   \"name\": \"python\",\n",
      "   \"nbconvert_exporter\": \"python\",\n",
      "   \"pygments_lexer\": \"ipython3\",\n",
      "   \"version\": \"3.9.7\"\n",
      "  }\n",
      " },\n",
      " \"nbformat\": 4,\n",
      " \"nbformat_minor\": 5\n",
      "}\n",
      "\n"
     ]
    }
   ],
   "source": [
    "print(text)\n",
    "f.close()"
   ]
  },
  {
   "cell_type": "code",
   "execution_count": 41,
   "id": "449b264c",
   "metadata": {},
   "outputs": [],
   "source": [
    "f = open('test2.txt', 'wt', encoding=\"UTF-8\")\n",
    "f.write('1가A')\n",
    "f.close()"
   ]
  },
  {
   "cell_type": "markdown",
   "id": "04ffa1a3",
   "metadata": {},
   "source": [
    "# "
   ]
  },
  {
   "cell_type": "code",
   "execution_count": 2,
   "id": "868c2793",
   "metadata": {},
   "outputs": [],
   "source": [
    "f = open('04_seoul_기온.csv', 'rt')\n",
    "lines = f.readlines()\n",
    "f.close()"
   ]
  },
  {
   "cell_type": "code",
   "execution_count": 3,
   "id": "eb2f6531",
   "metadata": {},
   "outputs": [
    {
     "data": {
      "text/plain": [
       "['날짜,평균기온(℃),최저기온(℃),최고기온(℃)\\n',\n",
       " '2021-01-02,-5,-8.4,-1.4\\n',\n",
       " '2021-01-03,-5.6,-9.1,-2\\n',\n",
       " '2021-01-04,-3.5,-8.4,0.3\\n',\n",
       " '2021-01-05,-5.5,-9.9,-2.1\\n']"
      ]
     },
     "execution_count": 3,
     "metadata": {},
     "output_type": "execute_result"
    }
   ],
   "source": [
    "lines[:5] # 문장을 보면 ''가 전체로 이루어졌다\n",
    "# 그래서 split으로 나눠저야 한다."
   ]
  },
  {
   "cell_type": "markdown",
   "id": "276eb110",
   "metadata": {},
   "source": [
    "### 원하는 부분만 뽑아 가져오는 법"
   ]
  },
  {
   "cell_type": "code",
   "execution_count": 10,
   "id": "971d9ea9",
   "metadata": {},
   "outputs": [],
   "source": [
    "# 기온이 문자형이라 숫자형으로 바꾸고\n",
    "# 제목줄도 빼줘야한다.\n",
    "lines = lines[1:]"
   ]
  },
  {
   "cell_type": "code",
   "execution_count": 11,
   "id": "147dd980",
   "metadata": {},
   "outputs": [],
   "source": [
    "date_data = []\n",
    "min_data = []\n",
    "for line in lines:\n",
    "    date_data.append(line.split(',')[0]) # 날짜\n",
    "    min_data.append(float(line.split(',')[2])) # 최저기온"
   ]
  },
  {
   "cell_type": "code",
   "execution_count": null,
   "id": "1fdac929",
   "metadata": {},
   "outputs": [],
   "source": [
    "# float으로 바꿔주는 또다른 방법\n",
    "# map 객체이기 때문에 마지막에 리스트나 튜플로 묶어줘야 한다.\n",
    "# map(함수, 리스트(또는 튜플))\n",
    "min_data = list(map(float, min_data)) "
   ]
  },
  {
   "cell_type": "markdown",
   "id": "88728490",
   "metadata": {},
   "source": [
    "## 시각화 하기"
   ]
  },
  {
   "cell_type": "code",
   "execution_count": 12,
   "id": "5bb5d1f8",
   "metadata": {},
   "outputs": [],
   "source": [
    "import matplotlib.pyplot as plt"
   ]
  },
  {
   "cell_type": "code",
   "execution_count": 16,
   "id": "5f71bf67",
   "metadata": {},
   "outputs": [
    {
     "data": {
      "image/png": "[encoded data removed]",
      "text/plain": [
       "<Figure size 432x288 with 1 Axes>"
      ]
     },
     "metadata": {
      "needs_background": "light"
     },
     "output_type": "display_data"
    }
   ],
   "source": [
    "plt.plot(date_data, min_data)\n",
    "plt.xticks(date_data, rotation=45) # rotation 글자 45도 \n",
    "plt.show()# show를 붙이면 밑에 실행글이 안나온다"
   ]
  },
  {
   "cell_type": "code",
   "execution_count": null,
   "id": "16d1f4e6",
   "metadata": {},
   "outputs": [],
   "source": []
  },
  {
   "cell_type": "code",
   "execution_count": 9,
   "id": "83e85d3a",
   "metadata": {},
   "outputs": [],
   "source": [
    "f = open('c:/python/04_numbers_data.txt', 'rt') # read모드의 text(생략가능)\n",
    "text = f.read()\n",
    "f.close() # 꼭 닫아줘야한다."
   ]
  },
  {
   "cell_type": "code",
   "execution_count": 10,
   "id": "71a2f983",
   "metadata": {},
   "outputs": [
    {
     "data": {
      "text/plain": [
       "'7\\n9\\n24\\n29\\n34\\n38'"
      ]
     },
     "execution_count": 10,
     "metadata": {},
     "output_type": "execute_result"
    }
   ],
   "source": [
    "text # \\n을 제거하자"
   ]
  },
  {
   "cell_type": "code",
   "execution_count": 11,
   "id": "7cbead8a",
   "metadata": {},
   "outputs": [],
   "source": [
    "li = text.split('\\n')"
   ]
  },
  {
   "cell_type": "code",
   "execution_count": 12,
   "id": "656067a3",
   "metadata": {},
   "outputs": [
    {
     "data": {
      "text/plain": [
       "['7', '9', '24', '29', '34', '38']"
      ]
     },
     "execution_count": 12,
     "metadata": {},
     "output_type": "execute_result"
    }
   ],
   "source": [
    "li # 문자열로 저장되어있다."
   ]
  },
  {
   "cell_type": "code",
   "execution_count": 13,
   "id": "0977c58e",
   "metadata": {},
   "outputs": [
    {
     "name": "stdout",
     "output_type": "stream",
     "text": [
      "총합 : 141\n"
     ]
    }
   ],
   "source": [
    "sum = 0\n",
    "for i in li:\n",
    "    sum += int(i)\n",
    "print('총합 :', sum)"
   ]
  },
  {
   "cell_type": "code",
   "execution_count": null,
   "id": "2e597fd4",
   "metadata": {},
   "outputs": [],
   "source": []
  },
  {
   "cell_type": "code",
   "execution_count": 18,
   "id": "00875a95",
   "metadata": {},
   "outputs": [],
   "source": [
    "f = open('c:/python/04_text_data.txt')\n",
    "texts = f.readlines()\n",
    "f.close()"
   ]
  },
  {
   "cell_type": "code",
   "execution_count": 19,
   "id": "c0e7aa50",
   "metadata": {},
   "outputs": [
    {
     "data": {
      "text/plain": [
       "['python\\n', 'java\\n', 'c++\\n', 'go\\n', 'kotlin\\n', 'fortran']"
      ]
     },
     "execution_count": 19,
     "metadata": {},
     "output_type": "execute_result"
    }
   ],
   "source": [
    "texts # 리스트형태"
   ]
  },
  {
   "cell_type": "code",
   "execution_count": 22,
   "id": "b14ebce8",
   "metadata": {},
   "outputs": [
    {
     "name": "stdout",
     "output_type": "stream",
     "text": [
      "python\n",
      "kotlin\n",
      "fortran\n"
     ]
    }
   ],
   "source": [
    "for text in texts:\n",
    "    if 't' in text:\n",
    "        print(text.replace('\\n', ''))\n",
    "    "
   ]
  },
  {
   "cell_type": "markdown",
   "id": "6f950da4",
   "metadata": {},
   "source": [
    "# "
   ]
  },
  {
   "cell_type": "markdown",
   "id": "c42819f6",
   "metadata": {},
   "source": [
    "# 파일 입출력시 자동 close"
   ]
  },
  {
   "cell_type": "code",
   "execution_count": 54,
   "id": "dbdab6fa",
   "metadata": {},
   "outputs": [],
   "source": [
    "with open('c:/python/04_numbers_data.txt', 'rt') as f:\n",
    "    file = f.read()"
   ]
  },
  {
   "cell_type": "code",
   "execution_count": 55,
   "id": "40d9933b",
   "metadata": {},
   "outputs": [
    {
     "data": {
      "text/plain": [
       "'7\\n9\\n24\\n29\\n34\\n38'"
      ]
     },
     "execution_count": 55,
     "metadata": {},
     "output_type": "execute_result"
    }
   ],
   "source": [
    "file"
   ]
  },
  {
   "cell_type": "code",
   "execution_count": null,
   "id": "51772846",
   "metadata": {},
   "outputs": [],
   "source": []
  },
  {
   "cell_type": "code",
   "execution_count": null,
   "id": "65f705ef",
   "metadata": {},
   "outputs": [],
   "source": []
  },
  {
   "cell_type": "code",
   "execution_count": null,
   "id": "0ce71721",
   "metadata": {},
   "outputs": [],
   "source": []
  },
  {
   "cell_type": "code",
   "execution_count": null,
   "id": "93d07048",
   "metadata": {},
   "outputs": [],
   "source": []
  },
  {
   "cell_type": "code",
   "execution_count": null,
   "id": "615ca55e",
   "metadata": {},
   "outputs": [],
   "source": []
  },
  {
   "cell_type": "code",
   "execution_count": null,
   "id": "bc9acace",
   "metadata": {},
   "outputs": [],
   "source": []
  },
  {
   "cell_type": "code",
   "execution_count": null,
   "id": "29e5276e",
   "metadata": {},
   "outputs": [],
   "source": []
  },
  {
   "cell_type": "code",
   "execution_count": null,
   "id": "c8ab4dac",
   "metadata": {},
   "outputs": [],
   "source": []
  },
  {
   "cell_type": "code",
   "execution_count": null,
   "id": "39ce0a87",
   "metadata": {},
   "outputs": [],
   "source": []
  },
  {
   "cell_type": "code",
   "execution_count": null,
   "id": "c989b462",
   "metadata": {},
   "outputs": [],
   "source": []
  },
  {
   "cell_type": "code",
   "execution_count": null,
   "id": "042fcfa4",
   "metadata": {},
   "outputs": [],
   "source": []
  },
  {
   "cell_type": "code",
   "execution_count": null,
   "id": "54087d96",
   "metadata": {},
   "outputs": [],
   "source": []
  },
  {
   "cell_type": "code",
   "execution_count": null,
   "id": "1a1b72a8",
   "metadata": {},
   "outputs": [],
   "source": []
  },
  {
   "cell_type": "code",
   "execution_count": null,
   "id": "481fcb2f",
   "metadata": {},
   "outputs": [],
   "source": []
  },
  {
   "cell_type": "code",
   "execution_count": null,
   "id": "1b6a9730",
   "metadata": {},
   "outputs": [],
   "source": []
  },
  {
   "cell_type": "code",
   "execution_count": null,
   "id": "3ec5b017",
   "metadata": {},
   "outputs": [],
   "source": []
  },
  {
   "cell_type": "code",
   "execution_count": null,
   "id": "729f3869",
   "metadata": {},
   "outputs": [],
   "source": []
  },
  {
   "cell_type": "code",
   "execution_count": null,
   "id": "83d0f029",
   "metadata": {},
   "outputs": [],
   "source": []
  },
  {
   "cell_type": "code",
   "execution_count": null,
   "id": "b1e38c7e",
   "metadata": {},
   "outputs": [],
   "source": []
  },
  {
   "cell_type": "code",
   "execution_count": null,
   "id": "33b5e1c1",
   "metadata": {},
   "outputs": [],
   "source": []
  },
  {
   "cell_type": "code",
   "execution_count": null,
   "id": "3eee6051",
   "metadata": {},
   "outputs": [],
   "source": []
  },
  {
   "cell_type": "code",
   "execution_count": null,
   "id": "9ca1a19e",
   "metadata": {},
   "outputs": [],
   "source": []
  },
  {
   "cell_type": "code",
   "execution_count": null,
   "id": "451ab2f9",
   "metadata": {},
   "outputs": [],
   "source": []
  },
  {
   "cell_type": "code",
   "execution_count": null,
   "id": "ed5423eb",
   "metadata": {},
   "outputs": [],
   "source": []
  },
  {
   "cell_type": "code",
   "execution_count": null,
   "id": "bd62e70a",
   "metadata": {},
   "outputs": [],
   "source": []
  },
  {
   "cell_type": "code",
   "execution_count": null,
   "id": "708dc2ee",
   "metadata": {},
   "outputs": [],
   "source": []
  },
  {
   "cell_type": "code",
   "execution_count": null,
   "id": "4f065cde",
   "metadata": {},
   "outputs": [],
   "source": []
  },
  {
   "cell_type": "code",
   "execution_count": null,
   "id": "02189005",
   "metadata": {},
   "outputs": [],
   "source": []
  },
  {
   "cell_type": "code",
   "execution_count": null,
   "id": "6d0ef140",
   "metadata": {},
   "outputs": [],
   "source": []
  },
  {
   "cell_type": "code",
   "execution_count": null,
   "id": "616e5af6",
   "metadata": {},
   "outputs": [],
   "source": []
  },
  {
   "cell_type": "code",
   "execution_count": null,
   "id": "31411b2d",
   "metadata": {},
   "outputs": [],
   "source": []
  },
  {
   "cell_type": "code",
   "execution_count": null,
   "id": "e358c639",
   "metadata": {},
   "outputs": [],
   "source": []
  },
  {
   "cell_type": "code",
   "execution_count": null,
   "id": "fe4f2e72",
   "metadata": {},
   "outputs": [],
   "source": []
  },
  {
   "cell_type": "code",
   "execution_count": null,
   "id": "8a53c0b3",
   "metadata": {},
   "outputs": [],
   "source": []
  },
  {
   "cell_type": "code",
   "execution_count": null,
   "id": "72b537c8",
   "metadata": {},
   "outputs": [],
   "source": []
  },
  {
   "cell_type": "code",
   "execution_count": null,
   "id": "df6c867e",
   "metadata": {},
   "outputs": [],
   "source": []
  },
  {
   "cell_type": "code",
   "execution_count": null,
   "id": "b5d1f475",
   "metadata": {},
   "outputs": [],
   "source": []
  },
  {
   "cell_type": "code",
   "execution_count": null,
   "id": "092a3ef4",
   "metadata": {},
   "outputs": [],
   "source": []
  },
  {
   "cell_type": "code",
   "execution_count": null,
   "id": "ea8353bb",
   "metadata": {},
   "outputs": [],
   "source": []
  },
  {
   "cell_type": "code",
   "execution_count": null,
   "id": "bb483342",
   "metadata": {},
   "outputs": [],
   "source": []
  },
  {
   "cell_type": "code",
   "execution_count": null,
   "id": "204a2d93",
   "metadata": {},
   "outputs": [],
   "source": []
  },
  {
   "cell_type": "code",
   "execution_count": null,
   "id": "f446e7ad",
   "metadata": {},
   "outputs": [],
   "source": []
  },
  {
   "cell_type": "code",
   "execution_count": null,
   "id": "8e89273d",
   "metadata": {},
   "outputs": [],
   "source": []
  },
  {
   "cell_type": "code",
   "execution_count": null,
   "id": "29cee0d7",
   "metadata": {},
   "outputs": [],
   "source": []
  },
  {
   "cell_type": "code",
   "execution_count": null,
   "id": "0db1fb7a",
   "metadata": {},
   "outputs": [],
   "source": []
  },
  {
   "cell_type": "code",
   "execution_count": null,
   "id": "cadb8241",
   "metadata": {},
   "outputs": [],
   "source": []
  },
  {
   "cell_type": "code",
   "execution_count": null,
   "id": "96c57140",
   "metadata": {},
   "outputs": [],
   "source": []
  },
  {
   "cell_type": "code",
   "execution_count": null,
   "id": "4a2d057b",
   "metadata": {},
   "outputs": [],
   "source": []
  },
  {
   "cell_type": "code",
   "execution_count": null,
   "id": "c00a92c1",
   "metadata": {},
   "outputs": [],
   "source": []
  },
  {
   "cell_type": "code",
   "execution_count": null,
   "id": "bd3a3152",
   "metadata": {},
   "outputs": [],
   "source": []
  },
  {
   "cell_type": "code",
   "execution_count": null,
   "id": "26e0d0bb",
   "metadata": {},
   "outputs": [],
   "source": []
  },
  {
   "cell_type": "code",
   "execution_count": null,
   "id": "76252dda",
   "metadata": {},
   "outputs": [],
   "source": []
  },
  {
   "cell_type": "code",
   "execution_count": null,
   "id": "5a9c27e6",
   "metadata": {},
   "outputs": [],
   "source": []
  },
  {
   "cell_type": "code",
   "execution_count": null,
   "id": "d268dd8a",
   "metadata": {},
   "outputs": [],
   "source": []
  },
  {
   "cell_type": "code",
   "execution_count": null,
   "id": "b56e9cc3",
   "metadata": {},
   "outputs": [],
   "source": []
  },
  {
   "cell_type": "code",
   "execution_count": null,
   "id": "6f6034cb",
   "metadata": {},
   "outputs": [],
   "source": []
  },
  {
   "cell_type": "code",
   "execution_count": null,
   "id": "add08726",
   "metadata": {},
   "outputs": [],
   "source": []
  },
  {
   "cell_type": "code",
   "execution_count": null,
   "id": "167cca98",
   "metadata": {},
   "outputs": [],
   "source": []
  },
  {
   "cell_type": "code",
   "execution_count": null,
   "id": "a4393f32",
   "metadata": {},
   "outputs": [],
   "source": []
  },
  {
   "cell_type": "code",
   "execution_count": null,
   "id": "8dd1572f",
   "metadata": {},
   "outputs": [],
   "source": []
  },
  {
   "cell_type": "code",
   "execution_count": null,
   "id": "70e8045b",
   "metadata": {},
   "outputs": [],
   "source": []
  }
 ],
 "metadata": {
  "kernelspec": {
   "display_name": "Python 3 (ipykernel)",
   "language": "python",
   "name": "python3"
  },
  "language_info": {
   "codemirror_mode": {
    "name": "ipython",
    "version": 3
   },
   "file_extension": ".py",
   "mimetype": "text/x-python",
   "name": "python",
   "nbconvert_exporter": "python",
   "pygments_lexer": "ipython3",
   "version": "3.9.7"
  }
 },
 "nbformat": 4,
 "nbformat_minor": 5
}
