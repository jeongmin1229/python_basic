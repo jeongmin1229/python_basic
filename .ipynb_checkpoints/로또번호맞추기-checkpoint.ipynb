{
 "cells": [
  {
   "cell_type": "code",
   "execution_count": 4,
   "id": "035624fd",
   "metadata": {},
   "outputs": [
    {
     "name": "stdout",
     "output_type": "stream",
     "text": [
      "10000\n",
      "20000\n",
      "30000\n",
      "40000\n",
      "50000\n",
      "60000\n",
      "65704\n"
     ]
    }
   ],
   "source": [
    "import random \n",
    "\n",
    "lotto = [9, 11, 12, 31]\n",
    "num = []\n",
    "count = 0\n",
    "\n",
    "while True:\n",
    "    num.clear() # 맞지 않으면 다시 뽑아야 해서\n",
    "    count += 1\n",
    "    \n",
    "    if count % 10000 == 0: \n",
    "        print(count) # 제대로 동작하는지 보기위해\n",
    "    \n",
    "    while True:\n",
    "        ran = random.randint(1, 45)\n",
    "        if ran not in num:\n",
    "            num.append(ran)\n",
    "            if len(num) >= len(lotto):\n",
    "                break\n",
    "    num.sort()\n",
    "    if lotto == num:\n",
    "        break\n",
    "print(count)"
   ]
  },
  {
   "cell_type": "code",
   "execution_count": null,
   "id": "46bf2eb0",
   "metadata": {},
   "outputs": [],
   "source": []
  }
 ],
 "metadata": {
  "kernelspec": {
   "display_name": "Python 3 (ipykernel)",
   "language": "python",
   "name": "python3"
  },
  "language_info": {
   "codemirror_mode": {
    "name": "ipython",
    "version": 3
   },
   "file_extension": ".py",
   "mimetype": "text/x-python",
   "name": "python",
   "nbconvert_exporter": "python",
   "pygments_lexer": "ipython3",
   "version": "3.9.7"
  }
 },
 "nbformat": 4,
 "nbformat_minor": 5
}
