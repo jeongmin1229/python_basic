{
 "cells": [
  {
   "cell_type": "code",
   "execution_count": 1,
   "id": "d19a82a2",
   "metadata": {
    "collapsed": true
   },
   "outputs": [
    {
     "name": "stdout",
     "output_type": "stream",
     "text": [
      "Collecting bs4\n",
      "  Downloading bs4-0.0.1.tar.gz (1.1 kB)\n",
      "Requirement already satisfied: beautifulsoup4 in c:\\programdata\\anaconda3\\lib\\site-packages (from bs4) (4.10.0)\n",
      "Requirement already satisfied: soupsieve>1.2 in c:\\programdata\\anaconda3\\lib\\site-packages (from beautifulsoup4->bs4) (2.2.1)\n",
      "Building wheels for collected packages: bs4\n",
      "  Building wheel for bs4 (setup.py): started\n",
      "  Building wheel for bs4 (setup.py): finished with status 'done'\n",
      "  Created wheel for bs4: filename=bs4-0.0.1-py3-none-any.whl size=1271 sha256=95d70dba7e7c80b8cfce3da8818c5942bdf594c139677e7d63b9dbc8dd77ba01\n",
      "  Stored in directory: c:\\users\\admin\\appdata\\local\\pip\\cache\\wheels\\73\\2b\\cb\\099980278a0c9a3e57ff1a89875ec07bfa0b6fcbebb9a8cad3\n",
      "Successfully built bs4\n",
      "Installing collected packages: bs4\n",
      "Successfully installed bs4-0.0.1\n"
     ]
    }
   ],
   "source": [
    "!pip install bs4"
   ]
  },
  {
   "cell_type": "code",
   "execution_count": 2,
   "id": "b18ef5cc",
   "metadata": {
    "collapsed": true
   },
   "outputs": [
    {
     "name": "stdout",
     "output_type": "stream",
     "text": [
      "Jill\n",
      "Smith\n",
      "50\n",
      "Eve\n",
      "Jackson\n",
      "94\n",
      "John\n",
      "Doe\n",
      "80\n"
     ]
    }
   ],
   "source": [
    "import requests\n",
    "result = requests.get(\n",
    "    'http://ggoreb.com/python/html/data1.html').text\n",
    "s_idx = 0\n",
    "e_idx = 0\n",
    "while True:\n",
    "    s_idx = result.find('<td>', e_idx)\n",
    "    if s_idx == -1:break\n",
    "    e_idx = result.find('</td>', s_idx)\n",
    "    print(result[s_idx + 4 : e_idx])"
   ]
  },
  {
   "cell_type": "markdown",
   "id": "fde2dadd",
   "metadata": {},
   "source": [
    "<a href=\"http://google.com\" target=\"_blank\">Google</a>\n",
    "<a href=\"01_html_1.md\">html basic</a>"
   ]
  },
  {
   "cell_type": "code",
   "execution_count": 3,
   "id": "36292881",
   "metadata": {},
   "outputs": [],
   "source": [
    "import requests\n",
    "address = 'http://ggoreb.com/python/html/example.html'\n",
    "res = requests.get(address)\n",
    "res.encoding = None"
   ]
  },
  {
   "cell_type": "code",
   "execution_count": 4,
   "id": "27a33627",
   "metadata": {},
   "outputs": [],
   "source": [
    "from bs4 import BeautifulSoup as bs\n",
    "soup = bs(res.text)"
   ]
  },
  {
   "cell_type": "code",
   "execution_count": 12,
   "id": "813889a6",
   "metadata": {
    "collapsed": true
   },
   "outputs": [
    {
     "data": {
      "text/plain": [
       "<div class=\"ex_class\">\n",
       "<p>d</p>\n",
       "<p>e</p>\n",
       "<p>f</p>\n",
       "</div>"
      ]
     },
     "execution_count": 12,
     "metadata": {},
     "output_type": "execute_result"
    }
   ],
   "source": [
    "soup.find(attrs={'class': 'ex_class'})"
   ]
  },
  {
   "cell_type": "code",
   "execution_count": 11,
   "id": "21ff4261",
   "metadata": {},
   "outputs": [
    {
     "data": {
      "text/plain": [
       "['ex_class']"
      ]
     },
     "execution_count": 11,
     "metadata": {},
     "output_type": "execute_result"
    }
   ],
   "source": [
    "# soup.find_all('div')[1].attrs.get('class')\n",
    "# soup.find_all('div')[1].attrs['class']\n",
    "soup.find_all('div')[1]['class']"
   ]
  },
  {
   "cell_type": "code",
   "execution_count": 8,
   "id": "50ff6815",
   "metadata": {},
   "outputs": [
    {
     "data": {
      "text/plain": [
       "'Page title'"
      ]
     },
     "execution_count": 8,
     "metadata": {},
     "output_type": "execute_result"
    }
   ],
   "source": [
    "title = soup.find('title')\n",
    "title.text"
   ]
  },
  {
   "cell_type": "code",
   "execution_count": 6,
   "id": "e7036a24",
   "metadata": {
    "collapsed": true
   },
   "outputs": [
    {
     "name": "stdout",
     "output_type": "stream",
     "text": [
      "a\n",
      "b\n",
      "c\n",
      "d\n",
      "e\n",
      "f\n",
      "g\n",
      "h\n",
      "i\n",
      "This is a paragraph.\n",
      "This is another paragraph.\n"
     ]
    }
   ],
   "source": [
    "p_list = soup.find_all('p')\n",
    "for p in p_list:\n",
    "    print(p.text)"
   ]
  },
  {
   "cell_type": "code",
   "execution_count": 13,
   "id": "c3c291ea",
   "metadata": {},
   "outputs": [],
   "source": [
    "import requests\n",
    "address = 'https://finance.naver.com/'\n",
    "res = requests.get(address)\n",
    "res.encoding = None\n",
    "from bs4 import BeautifulSoup as bs\n",
    "soup = bs(res.text)"
   ]
  },
  {
   "cell_type": "code",
   "execution_count": 20,
   "id": "1bd89b0f",
   "metadata": {},
   "outputs": [],
   "source": [
    "p_div = soup.find(attrs={'class': 'section_stock_market'})"
   ]
  },
  {
   "cell_type": "code",
   "execution_count": 21,
   "id": "8013bf81",
   "metadata": {},
   "outputs": [
    {
     "data": {
      "text/plain": [
       "[<span class=\"num\">2,695.05</span>,\n",
       " <span class=\"num\">904.75</span>,\n",
       " <span class=\"num\">355.08</span>]"
      ]
     },
     "execution_count": 21,
     "metadata": {},
     "output_type": "execute_result"
    }
   ],
   "source": [
    "p_div.find_all(attrs={'class': 'num'})"
   ]
  },
  {
   "cell_type": "markdown",
   "id": "9dc61bbe",
   "metadata": {},
   "source": [
    "#### 네이버 웹툰"
   ]
  },
  {
   "cell_type": "code",
   "execution_count": 22,
   "id": "f9f19c4c",
   "metadata": {},
   "outputs": [],
   "source": [
    "import requests\n",
    "address = 'https://comic.naver.com/webtoon/list?titleId=727188'\n",
    "res = requests.get(address)\n",
    "res.encoding = None\n",
    "from bs4 import BeautifulSoup as bs\n",
    "soup = bs(res.text)"
   ]
  },
  {
   "cell_type": "code",
   "execution_count": 24,
   "id": "45835a98",
   "metadata": {},
   "outputs": [
    {
     "data": {
      "text/plain": [
       "['157화 : 바뀐 사람들',\n",
       " '156화 : 군단장 vs 사령관',\n",
       " '155화 : 폐급과 폐급의 만남',\n",
       " '154화 : 호영이네 아빠의 위기',\n",
       " '153화 : 실력차이',\n",
       " '152화 : 한계돌파2',\n",
       " '151화 : 한계돌파',\n",
       " '150화 : 스펀지 같은 성재',\n",
       " '149화 : 빽이 센 윤호영',\n",
       " '148화 : 호영아, 그건 아니야']"
      ]
     },
     "execution_count": 24,
     "metadata": {},
     "output_type": "execute_result"
    }
   ],
   "source": [
    "[  s.text for s in soup.select('.title > a')  ]"
   ]
  },
  {
   "cell_type": "code",
   "execution_count": 25,
   "id": "70b356d0",
   "metadata": {},
   "outputs": [],
   "source": [
    "import requests\n",
    "res = requests.get('https://tiobe.com/tiobe-index/')\n",
    "res.encoding = None\n",
    "from bs4 import BeautifulSoup as bs\n",
    "soup = bs(res.text)"
   ]
  },
  {
   "cell_type": "code",
   "execution_count": 31,
   "id": "5f69125c",
   "metadata": {
    "collapsed": true
   },
   "outputs": [
    {
     "name": "stdout",
     "output_type": "stream",
     "text": [
      "Python\n",
      "C\n",
      "Java\n",
      "C++\n",
      "C#\n",
      "Visual Basic\n",
      "JavaScript\n",
      "Assembly language\n",
      "SQL\n",
      "PHP\n",
      "R\n",
      "Delphi/Object Pascal\n",
      "Go\n",
      "Swift\n",
      "Ruby\n",
      "Classic Visual Basic\n",
      "Objective-C\n",
      "Perl\n",
      "Lua\n",
      "MATLAB\n"
     ]
    }
   ],
   "source": [
    "print('\\n'.join([s.text for s in soup.select('.td-top20 + td')]))"
   ]
  },
  {
   "cell_type": "code",
   "execution_count": null,
   "id": "abcb75aa",
   "metadata": {},
   "outputs": [],
   "source": []
  },
  {
   "cell_type": "code",
   "execution_count": null,
   "id": "854fca4b",
   "metadata": {},
   "outputs": [],
   "source": []
  },
  {
   "cell_type": "code",
   "execution_count": 32,
   "id": "5f56d1a8",
   "metadata": {},
   "outputs": [],
   "source": [
    "import requests\n",
    "from bs4 import BeautifulSoup as bs\n",
    "address = 'https://comic.naver.com/webtoon/list?titleId=727188'"
   ]
  },
  {
   "cell_type": "code",
   "execution_count": 34,
   "id": "6e7366fa",
   "metadata": {
    "collapsed": true
   },
   "outputs": [
    {
     "name": "stdout",
     "output_type": "stream",
     "text": [
      "['157화 : 바뀐 사람들', '156화 : 군단장 vs 사령관', '155화 : 폐급과 폐급의 만남', '154화 : 호영이네 아빠의 위기', '153화 : 실력차이', '152화 : 한계돌파2', '151화 : 한계돌파', '150화 : 스펀지 같은 성재', '149화 : 빽이 센 윤호영', '148화 : 호영아, 그건 아니야']\n",
      "['147화 : 너희들이 치워야 돼.', '146화 : 빨리 친해졌네.', '145화 : 조기진급하는 이유', '144화 : 전출', '143화 : 작별인사', '142화 : 서효석의 고민', '141화 : 최만식 대령의 계획', '140화 : 바뀐 부대', '139화 : 강일용의 의심', '138화 : 강일용의 계획']\n",
      "['137화 : 구제역이 발생하였습니다.', '136화 : KCTC훈련(2)', '135화 : KCTC훈련(1)', '134화 : 막내야 걸레 빨 줄 알지?', '133화 : 조리병 교육대 (2)', '132화 : 조리병 교육대 (1)', '131화 : 배윤아의 마음', '130화 : 연대장의 결혼식', '129화 : 코리안푸드', '128화 : 자존심 싸움']\n"
     ]
    }
   ],
   "source": [
    "for i in range(1, 4):\n",
    "    param = {'page': i}\n",
    "    res = requests.get(address, params=param)\n",
    "    res.encoding = None\n",
    "    soup = bs(res.text)\n",
    "    print([  s.text for s in soup.select('.title > a')  ])"
   ]
  },
  {
   "cell_type": "code",
   "execution_count": null,
   "id": "c9b9718a",
   "metadata": {},
   "outputs": [],
   "source": []
  },
  {
   "cell_type": "code",
   "execution_count": null,
   "id": "7afba88a",
   "metadata": {},
   "outputs": [],
   "source": []
  },
  {
   "cell_type": "code",
   "execution_count": 35,
   "id": "a9c1bdbb",
   "metadata": {},
   "outputs": [],
   "source": [
    "import requests\n",
    "from bs4 import BeautifulSoup\n",
    "query = \"삼성전자\"\n",
    "url = f\"https://search.naver.com/search.naver?query={query}\"\n",
    "res = requests.get(url)\n",
    "soup = BeautifulSoup(res.text)"
   ]
  },
  {
   "cell_type": "code",
   "execution_count": 39,
   "id": "ef5531fd",
   "metadata": {
    "collapsed": true
   },
   "outputs": [
    {
     "data": {
      "text/plain": [
       "['삼성전자주가',\n",
       " '삼성전자 배당금',\n",
       " '삼성전자 배당금 지급일',\n",
       " '삼성전자 주식',\n",
       " '삼성전자 임금협상',\n",
       " '삼성전자 채용',\n",
       " '삼성전자 주가 전망',\n",
       " '삼성전자 연봉협상',\n",
       " '오늘 삼성전자 주가',\n",
       " '삼성 전자레인지']"
      ]
     },
     "execution_count": 39,
     "metadata": {},
     "output_type": "execute_result"
    }
   ],
   "source": [
    "[  s.text for s in soup.select('li.item > a > div.tit')  ]"
   ]
  },
  {
   "cell_type": "markdown",
   "id": "2a6c6d61",
   "metadata": {},
   "source": [
    "#### 행정안전부 보도자료"
   ]
  },
  {
   "cell_type": "code",
   "execution_count": 42,
   "id": "2925be17",
   "metadata": {},
   "outputs": [],
   "source": [
    "import requests\n",
    "from bs4 import BeautifulSoup\n",
    "url = \"https://mois.go.kr/frt/bbs/type010/commonSelectBoardList.do?bbsId=BBSMSTR_000000000008\"\n",
    "param = { 'pageIndex': 3 }\n",
    "res = requests.post(url, params=param)\n",
    "soup = BeautifulSoup(res.text)"
   ]
  },
  {
   "cell_type": "code",
   "execution_count": 43,
   "id": "a0c4e27e",
   "metadata": {
    "collapsed": true
   },
   "outputs": [
    {
     "data": {
      "text/plain": [
       "[<a href=\"/frt/bbs/type010/commonSelectBoardArticle.do;jsessionid=bWgxg5vFjAAIfj70MeTEC0EX.node10?bbsId=BBSMSTR_000000000008&amp;nttId=91583\" onclick=\"javascript:fn_egov_inqire_notice('91583', 'BBSMSTR_000000000008'); return false;\">특수교육대상자 교육 여건, 데이터로 개선한다 </a>,\n",
       " <a href=\"/frt/bbs/type010/commonSelectBoardArticle.do;jsessionid=bWgxg5vFjAAIfj70MeTEC0EX.node10?bbsId=BBSMSTR_000000000008&amp;nttId=91581\" onclick=\"javascript:fn_egov_inqire_notice('91581', 'BBSMSTR_000000000008'); return false;\">가맹점 재등록 제한기간 도입으로 지역사랑상품권 부정유통 막는다 </a>,\n",
       " <a href=\"/frt/bbs/type010/commonSelectBoardArticle.do;jsessionid=bWgxg5vFjAAIfj70MeTEC0EX.node10?bbsId=BBSMSTR_000000000008&amp;nttId=91579\" onclick=\"javascript:fn_egov_inqire_notice('91579', 'BBSMSTR_000000000008'); return false;\">함께 발전하고 주민이 중심이 되는 지역 만들기에 앞장선다 </a>,\n",
       " <a href=\"/frt/bbs/type010/commonSelectBoardArticle.do;jsessionid=bWgxg5vFjAAIfj70MeTEC0EX.node10?bbsId=BBSMSTR_000000000008&amp;nttId=91586\" onclick=\"javascript:fn_egov_inqire_notice('91586', 'BBSMSTR_000000000008'); return false;\">국내 첫 특별지자체 ‘부울경특별연합’ 설치, 동북아 8대 메가시티 도약 </a>,\n",
       " <a href=\"/frt/bbs/type010/commonSelectBoardArticle.do;jsessionid=bWgxg5vFjAAIfj70MeTEC0EX.node10?bbsId=BBSMSTR_000000000008&amp;nttId=91555\" onclick=\"javascript:fn_egov_inqire_notice('91555', 'BBSMSTR_000000000008'); return false;\">「맘편한 임신」으로 임산부 지원 서비스 한 번에 신청하세요 </a>,\n",
       " <a href=\"/frt/bbs/type010/commonSelectBoardArticle.do;jsessionid=bWgxg5vFjAAIfj70MeTEC0EX.node10?bbsId=BBSMSTR_000000000008&amp;nttId=91554\" onclick=\"javascript:fn_egov_inqire_notice('91554', 'BBSMSTR_000000000008'); return false;\">17개 시·도 대상 2022년도 지방자치단체 합동평가 결과 공개 </a>,\n",
       " <a href=\"/frt/bbs/type010/commonSelectBoardArticle.do;jsessionid=bWgxg5vFjAAIfj70MeTEC0EX.node10?bbsId=BBSMSTR_000000000008&amp;nttId=91549\" onclick=\"javascript:fn_egov_inqire_notice('91549', 'BBSMSTR_000000000008'); return false;\">내 손으로 디지털정부서비스를 디자인한다 </a>,\n",
       " <a href=\"/frt/bbs/type010/commonSelectBoardArticle.do;jsessionid=bWgxg5vFjAAIfj70MeTEC0EX.node10?bbsId=BBSMSTR_000000000008&amp;nttId=91548\" onclick=\"javascript:fn_egov_inqire_notice('91548', 'BBSMSTR_000000000008'); return false;\">봄꽃향기 가득한 세종청사 옥상정원으로 오세요 </a>,\n",
       " <a href=\"/frt/bbs/type010/commonSelectBoardArticle.do;jsessionid=bWgxg5vFjAAIfj70MeTEC0EX.node10?bbsId=BBSMSTR_000000000008&amp;nttId=91553\" onclick=\"javascript:fn_egov_inqire_notice('91553', 'BBSMSTR_000000000008'); return false;\">행정안전부, 해빙기 취약시설 안전 점검으로 국민안전 확보 </a>,\n",
       " <a href=\"/frt/bbs/type010/commonSelectBoardArticle.do;jsessionid=bWgxg5vFjAAIfj70MeTEC0EX.node10?bbsId=BBSMSTR_000000000008&amp;nttId=91552\" onclick=\"javascript:fn_egov_inqire_notice('91552', 'BBSMSTR_000000000008'); return false;\">회전교차로 설치하니 사망자 63%, 교통사고 35.8% 줄어 </a>]"
      ]
     },
     "execution_count": 43,
     "metadata": {},
     "output_type": "execute_result"
    }
   ],
   "source": [
    "soup.select('div.wrap > a')"
   ]
  },
  {
   "cell_type": "code",
   "execution_count": null,
   "id": "ed16f4cc",
   "metadata": {},
   "outputs": [],
   "source": []
  },
  {
   "cell_type": "code",
   "execution_count": null,
   "id": "d73617c2",
   "metadata": {},
   "outputs": [],
   "source": []
  },
  {
   "cell_type": "code",
   "execution_count": 44,
   "id": "076559dd",
   "metadata": {},
   "outputs": [],
   "source": [
    "import requests\n",
    "url = 'https://dapi.kakao.com/v2/local/search/address.xml'\n",
    "param = { 'query': '제주 서귀포시 성산읍 성산리 1' }\n",
    "header = { 'Authorization': 'KakaoAK f33c0bdc28cf3a49a87aeb9f5e218e65' }\n",
    "res = requests.get(url, params=param, headers=header)\n",
    "from bs4 import BeautifulSoup as bs\n",
    "soup = bs(res.text)"
   ]
  },
  {
   "cell_type": "code",
   "execution_count": 46,
   "id": "3bade72b",
   "metadata": {
    "scrolled": true
   },
   "outputs": [
    {
     "data": {
      "text/plain": [
       "('126.942496776521', '33.458409737774')"
      ]
     },
     "execution_count": 46,
     "metadata": {},
     "output_type": "execute_result"
    }
   ],
   "source": [
    "result = soup.find('result')\n",
    "documents = result.find('documents')\n",
    "address = documents.find('address')\n",
    "x = address.find('x') # 경도\n",
    "y = address.find('y') # 위도\n",
    "x.text, y.text"
   ]
  },
  {
   "cell_type": "code",
   "execution_count": null,
   "id": "fde25819",
   "metadata": {},
   "outputs": [],
   "source": []
  },
  {
   "cell_type": "code",
   "execution_count": 48,
   "id": "ef0e14c8",
   "metadata": {},
   "outputs": [
    {
     "name": "stdout",
     "output_type": "stream",
     "text": [
      "<class 'list'>\n"
     ]
    },
    {
     "ename": "TypeError",
     "evalue": "list indices must be integers or slices, not str",
     "output_type": "error",
     "traceback": [
      "\u001b[1;31m---------------------------------------------------------------------------\u001b[0m",
      "\u001b[1;31mTypeError\u001b[0m                                 Traceback (most recent call last)",
      "\u001b[1;32m~\\AppData\\Local\\Temp/ipykernel_9004/4100672660.py\u001b[0m in \u001b[0;36m<module>\u001b[1;34m\u001b[0m\n\u001b[0;32m      3\u001b[0m \u001b[0mparse\u001b[0m \u001b[1;33m=\u001b[0m \u001b[0mres\u001b[0m\u001b[1;33m.\u001b[0m\u001b[0mjson\u001b[0m\u001b[1;33m(\u001b[0m\u001b[1;33m)\u001b[0m \u001b[1;31m# JSON → Dictionary\u001b[0m\u001b[1;33m\u001b[0m\u001b[1;33m\u001b[0m\u001b[0m\n\u001b[0;32m      4\u001b[0m \u001b[0mprint\u001b[0m\u001b[1;33m(\u001b[0m\u001b[0mtype\u001b[0m\u001b[1;33m(\u001b[0m\u001b[0mparse\u001b[0m\u001b[1;33m)\u001b[0m\u001b[1;33m)\u001b[0m\u001b[1;33m\u001b[0m\u001b[1;33m\u001b[0m\u001b[0m\n\u001b[1;32m----> 5\u001b[1;33m \u001b[0mprint\u001b[0m\u001b[1;33m(\u001b[0m\u001b[0mparse\u001b[0m\u001b[1;33m[\u001b[0m\u001b[1;34m'age'\u001b[0m\u001b[1;33m]\u001b[0m\u001b[1;33m)\u001b[0m\u001b[1;33m\u001b[0m\u001b[1;33m\u001b[0m\u001b[0m\n\u001b[0m\u001b[0;32m      6\u001b[0m \u001b[0mprint\u001b[0m\u001b[1;33m(\u001b[0m\u001b[0mparse\u001b[0m\u001b[1;33m.\u001b[0m\u001b[0mget\u001b[0m\u001b[1;33m(\u001b[0m\u001b[1;34m'name'\u001b[0m\u001b[1;33m)\u001b[0m\u001b[1;33m)\u001b[0m\u001b[1;33m\u001b[0m\u001b[1;33m\u001b[0m\u001b[0m\n",
      "\u001b[1;31mTypeError\u001b[0m: list indices must be integers or slices, not str"
     ]
    }
   ],
   "source": [
    "import requests\n",
    "res = requests.get('http://ggoreb.com/python/json/data2.jsp')\n",
    "parse = res.json() # JSON → Dictionary\n",
    "print(type(parse))\n",
    "print(parse['age'])\n",
    "print(parse.get('name'))"
   ]
  }
 ],
 "metadata": {
  "kernelspec": {
   "display_name": "Python 3 (ipykernel)",
   "language": "python",
   "name": "python3"
  },
  "language_info": {
   "codemirror_mode": {
    "name": "ipython",
    "version": 3
   },
   "file_extension": ".py",
   "mimetype": "text/x-python",
   "name": "python",
   "nbconvert_exporter": "python",
   "pygments_lexer": "ipython3",
   "version": "3.9.7"
  }
 },
 "nbformat": 4,
 "nbformat_minor": 5
}
