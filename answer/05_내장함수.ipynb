{
 "cells": [
  {
   "cell_type": "code",
   "execution_count": 2,
   "id": "690df23f",
   "metadata": {},
   "outputs": [
    {
     "name": "stdout",
     "output_type": "stream",
     "text": [
      "dx: 4 dy: 2\n"
     ]
    }
   ],
   "source": [
    "def distance(start, end):\n",
    "    return (abs(start[0] - end[0]), abs(start[1] - end[1]))\n",
    "\n",
    "start = (1, 1)\n",
    "end = (5, 3)\n",
    "dx, dy = distance(start, end)\n",
    "print('dx:', dx, 'dy:', dy)"
   ]
  },
  {
   "cell_type": "code",
   "execution_count": 3,
   "id": "a48d0b20",
   "metadata": {},
   "outputs": [
    {
     "data": {
      "text/plain": [
       "12593"
      ]
     },
     "execution_count": 3,
     "metadata": {},
     "output_type": "execute_result"
    }
   ],
   "source": [
    "ord('ㄱ')"
   ]
  },
  {
   "cell_type": "code",
   "execution_count": 6,
   "id": "fbf22502",
   "metadata": {},
   "outputs": [
    {
     "data": {
      "text/plain": [
       "'ㄴ'"
      ]
     },
     "execution_count": 6,
     "metadata": {},
     "output_type": "execute_result"
    }
   ],
   "source": [
    "chr(12596)"
   ]
  },
  {
   "cell_type": "code",
   "execution_count": 7,
   "id": "cf182d5b",
   "metadata": {
    "scrolled": true
   },
   "outputs": [
    {
     "data": {
      "text/plain": [
       "['__class__',\n",
       " '__class_getitem__',\n",
       " '__contains__',\n",
       " '__delattr__',\n",
       " '__delitem__',\n",
       " '__dir__',\n",
       " '__doc__',\n",
       " '__eq__',\n",
       " '__format__',\n",
       " '__ge__',\n",
       " '__getattribute__',\n",
       " '__getitem__',\n",
       " '__gt__',\n",
       " '__hash__',\n",
       " '__init__',\n",
       " '__init_subclass__',\n",
       " '__ior__',\n",
       " '__iter__',\n",
       " '__le__',\n",
       " '__len__',\n",
       " '__lt__',\n",
       " '__ne__',\n",
       " '__new__',\n",
       " '__or__',\n",
       " '__reduce__',\n",
       " '__reduce_ex__',\n",
       " '__repr__',\n",
       " '__reversed__',\n",
       " '__ror__',\n",
       " '__setattr__',\n",
       " '__setitem__',\n",
       " '__sizeof__',\n",
       " '__str__',\n",
       " '__subclasshook__',\n",
       " 'clear',\n",
       " 'copy',\n",
       " 'fromkeys',\n",
       " 'get',\n",
       " 'items',\n",
       " 'keys',\n",
       " 'pop',\n",
       " 'popitem',\n",
       " 'setdefault',\n",
       " 'update',\n",
       " 'values']"
      ]
     },
     "execution_count": 7,
     "metadata": {},
     "output_type": "execute_result"
    }
   ],
   "source": [
    "dir(dict)"
   ]
  },
  {
   "cell_type": "code",
   "execution_count": 8,
   "id": "2612db71",
   "metadata": {},
   "outputs": [
    {
     "name": "stdout",
     "output_type": "stream",
     "text": [
      "{1: 'a', 2: 'b', 3: 'c', 4: 'd', 5: 'e', 6: 'f', 7: 'g'}\n"
     ]
    }
   ],
   "source": [
    "char_list = ['a', 'b', 'c', 'd', 'e', 'f', 'g']\n",
    "char_dict = {}\n",
    "\n",
    "for i, e in enumerate(char_list):\n",
    "    char_dict[i+1] = e\n",
    "\n",
    "print(char_dict)"
   ]
  },
  {
   "cell_type": "code",
   "execution_count": 11,
   "id": "f34b7895",
   "metadata": {},
   "outputs": [
    {
     "data": {
      "text/plain": [
       "('12', '1 + 2', 3)"
      ]
     },
     "execution_count": 11,
     "metadata": {},
     "output_type": "execute_result"
    }
   ],
   "source": [
    "'1' + '2', '1 + 2', 1 + 2"
   ]
  },
  {
   "cell_type": "code",
   "execution_count": 13,
   "id": "bfaf90f5",
   "metadata": {},
   "outputs": [
    {
     "data": {
      "text/plain": [
       "[1, 2, 3, 4, 5, 6, 7, 8, 9, 10]"
      ]
     },
     "execution_count": 13,
     "metadata": {},
     "output_type": "execute_result"
    }
   ],
   "source": [
    "list(  filter( lambda x: True, list(range(1, 11)) )  )"
   ]
  },
  {
   "cell_type": "code",
   "execution_count": 14,
   "id": "eafaa7d6",
   "metadata": {},
   "outputs": [
    {
     "data": {
      "text/plain": [
       "[2, 4, 6, 8, 10]"
      ]
     },
     "execution_count": 14,
     "metadata": {},
     "output_type": "execute_result"
    }
   ],
   "source": [
    "list(  filter( lambda x: x % 2 == 0, list(range(1, 11)) )  )"
   ]
  },
  {
   "cell_type": "code",
   "execution_count": 16,
   "id": "9cafb28d",
   "metadata": {},
   "outputs": [
    {
     "data": {
      "text/plain": [
       "(1, 3, 8)"
      ]
     },
     "execution_count": 16,
     "metadata": {},
     "output_type": "execute_result"
    }
   ],
   "source": [
    "num_list = [1, -2, 3, -5, 8, -3]\n",
    "tuple( filter( lambda n: n >= 0, num_list ) )"
   ]
  },
  {
   "cell_type": "code",
   "execution_count": 17,
   "id": "a87dfedd",
   "metadata": {},
   "outputs": [
    {
     "data": {
      "text/plain": [
       "[1, 2, 4, 5, 7, 8, 10, 11, 13, 14, 16, 17, 19, 20]"
      ]
     },
     "execution_count": 17,
     "metadata": {},
     "output_type": "execute_result"
    }
   ],
   "source": [
    "num_list = range(1, 21)\n",
    "list(    filter(  lambda a: a % 3 != 0, num_list  )    )"
   ]
  },
  {
   "cell_type": "code",
   "execution_count": 22,
   "id": "6c6f943d",
   "metadata": {},
   "outputs": [
    {
     "data": {
      "text/plain": [
       "(255, '0xff', 8, '0o10')"
      ]
     },
     "execution_count": 22,
     "metadata": {},
     "output_type": "execute_result"
    }
   ],
   "source": [
    "0xff, hex(255), 0o10, oct(8)"
   ]
  },
  {
   "cell_type": "code",
   "execution_count": 50,
   "id": "9958dc81",
   "metadata": {},
   "outputs": [
    {
     "data": {
      "text/plain": [
       "(1676025886336, 1676025884480)"
      ]
     },
     "execution_count": 50,
     "metadata": {},
     "output_type": "execute_result"
    }
   ],
   "source": [
    "# a = [1, 2, 3]\n",
    "b = [1, 2, 3]\n",
    "c = b[:]  # shallowcopy(얕은복사), deepcopy(깊은복사)\n",
    "# id(a)\n",
    "id(b), id(c)"
   ]
  },
  {
   "cell_type": "code",
   "execution_count": 51,
   "id": "e59800f8",
   "metadata": {},
   "outputs": [
    {
     "name": "stdout",
     "output_type": "stream",
     "text": [
      "0xbe 0x42 0xcd\n"
     ]
    }
   ],
   "source": [
    "red = 190\n",
    "green = 66\n",
    "blue = 205\n",
    "r = hex(red)\n",
    "g = hex(green)\n",
    "b = hex(blue)\n",
    "print(r, g, b)"
   ]
  },
  {
   "cell_type": "code",
   "execution_count": 55,
   "id": "d177c5dc",
   "metadata": {
    "scrolled": true
   },
   "outputs": [
    {
     "data": {
      "text/plain": [
       "(789, 97, 255)"
      ]
     },
     "execution_count": 55,
     "metadata": {},
     "output_type": "execute_result"
    }
   ],
   "source": [
    "int('789'), int(  ord('a')  ), int('ff', 16)"
   ]
  },
  {
   "cell_type": "code",
   "execution_count": 64,
   "id": "1b25fec6",
   "metadata": {},
   "outputs": [
    {
     "name": "stdout",
     "output_type": "stream",
     "text": [
      "HELLOGGOREB"
     ]
    }
   ],
   "source": [
    "hexa_string1 = '48 45 4C 4C 4F'\n",
    "\n",
    "h1 = hexa_string1.split(' ')\n",
    "for h in h1:\n",
    "    decimal = int(h, 16)\n",
    "    char = chr(decimal)\n",
    "    print(  char, end=''  )"
   ]
  },
  {
   "cell_type": "code",
   "execution_count": 64,
   "id": "c9415706",
   "metadata": {},
   "outputs": [
    {
     "name": "stdout",
     "output_type": "stream",
     "text": [
      "HELLOGGOREB"
     ]
    }
   ],
   "source": [
    "hexa_string1 = '48 45 4C 4C 4F'\n",
    "hexa_string2 = '47 47 4F 52 45 42'\n",
    "\n",
    "def show_hex_to_ch(t):\n",
    "    h1 = t.split(' ')\n",
    "    for h in h1:\n",
    "        decimal = int(h, 16)\n",
    "        char = chr(decimal)\n",
    "        print(  char, end=''  )\n",
    "\n",
    "show_hex_to_ch(hexa_string1)\n",
    "show_hex_to_ch(hexa_string2)"
   ]
  },
  {
   "cell_type": "code",
   "execution_count": 65,
   "id": "05877677",
   "metadata": {
    "collapsed": true
   },
   "outputs": [
    {
     "name": "stdout",
     "output_type": "stream",
     "text": [
      "<class 'int'>\n",
      "True\n",
      "<class 'str'>\n",
      "False\n",
      "<class 'bool'>\n",
      "True\n",
      "<class 'dict'>\n",
      "False\n",
      "<class 'list'>\n",
      "False\n",
      "<class 'int'>\n",
      "True\n",
      "<class 'float'>\n",
      "False\n",
      "<class 'tuple'>\n",
      "False\n",
      "<class 'float'>\n",
      "False\n"
     ]
    }
   ],
   "source": [
    "values = [10, 'a', True, {}, [], -4, 23.24, (1,), -1.2]\n",
    "for v in values:\n",
    "    print(  type(v)  )\n",
    "    print(  isinstance(v, int)  )"
   ]
  },
  {
   "cell_type": "code",
   "execution_count": 66,
   "id": "c8a502c2",
   "metadata": {},
   "outputs": [
    {
     "data": {
      "text/plain": [
       "[2, 4, 6]"
      ]
     },
     "execution_count": 66,
     "metadata": {},
     "output_type": "execute_result"
    }
   ],
   "source": [
    "data = [1, 2, 3]\n",
    "list(   map( lambda d: d * 2 , data )   )\n",
    "# list(   filter( lambda d: d * 2 == 0 , data )   )"
   ]
  },
  {
   "cell_type": "code",
   "execution_count": 67,
   "id": "15285269",
   "metadata": {},
   "outputs": [
    {
     "data": {
      "text/plain": [
       "[3, 6, 9, 12]"
      ]
     },
     "execution_count": 67,
     "metadata": {},
     "output_type": "execute_result"
    }
   ],
   "source": [
    "num_list = [1, 2, 3, 4]\n",
    "list(  map(lambda n: n * 3, num_list)  )"
   ]
  },
  {
   "cell_type": "code",
   "execution_count": 68,
   "id": "f047c514",
   "metadata": {},
   "outputs": [
    {
     "data": {
      "text/plain": [
       "[1, 4, 27, 256]"
      ]
     },
     "execution_count": 68,
     "metadata": {},
     "output_type": "execute_result"
    }
   ],
   "source": [
    "num_list = [1, 2, 3, 4]\n",
    "list(  map(lambda n: n ** n, num_list)  )"
   ]
  },
  {
   "cell_type": "code",
   "execution_count": 71,
   "id": "ce762bb3",
   "metadata": {},
   "outputs": [
    {
     "data": {
      "text/plain": [
       "'HELLO'"
      ]
     },
     "execution_count": 71,
     "metadata": {},
     "output_type": "execute_result"
    }
   ],
   "source": [
    "hexa = '48 45 4C 4C 4F'\n",
    "\n",
    "''.join(  list( map(  \n",
    "    lambda t: chr(int(t, 16)),\n",
    "    [ t for t in hexa.split(' ')  ]\n",
    ")  )   )\n",
    "\n",
    "# [ t for t in hexa.split(' ')  ]\n",
    "\n",
    "# lambda t: chr(int(t, 16))"
   ]
  },
  {
   "cell_type": "code",
   "execution_count": 2,
   "id": "feb05530",
   "metadata": {},
   "outputs": [
    {
     "name": "stdout",
     "output_type": "stream",
     "text": [
      "65 83 67 73 73 32 84 65 66 76 69 "
     ]
    }
   ],
   "source": [
    "string1 = 'ASCII TABLE'\n",
    "for s in string1:\n",
    "    code = ord(s)\n",
    "    print(code, end=' ')"
   ]
  },
  {
   "cell_type": "code",
   "execution_count": 3,
   "id": "b869c791",
   "metadata": {},
   "outputs": [
    {
     "name": "stdout",
     "output_type": "stream",
     "text": [
      "65 83 67 73 73 32 84 65 66 76 69 \n",
      "80 89 84 72 79 78 \n"
     ]
    }
   ],
   "source": [
    "string1 = 'ASCII TABLE'\n",
    "string2 = 'PYTHON'\n",
    "def show_ch_to_ascii(string):\n",
    "    for s in string:\n",
    "        code = ord(s)\n",
    "        print(code, end=' ')\n",
    "    print()\n",
    "show_ch_to_ascii(string1)\n",
    "show_ch_to_ascii(string2)"
   ]
  },
  {
   "cell_type": "code",
   "execution_count": 6,
   "id": "7912839d",
   "metadata": {},
   "outputs": [
    {
     "data": {
      "text/plain": [
       "[(1, 'a', '가'), (2, 'b', '나'), (3, 'c', '다'), (4, 'd', '라')]"
      ]
     },
     "execution_count": 6,
     "metadata": {},
     "output_type": "execute_result"
    }
   ],
   "source": [
    "list1 = [1, 2, 3, 4]\n",
    "list2 = ['a', 'b', 'c', 'd']\n",
    "list3 = ['가', '나', '다', '라']\n",
    "\n",
    "list( zip(list1, list2, list3) )"
   ]
  },
  {
   "cell_type": "code",
   "execution_count": 7,
   "id": "2cbaf9cc",
   "metadata": {},
   "outputs": [
    {
     "data": {
      "text/plain": [
       "'123defghi456'"
      ]
     },
     "execution_count": 7,
     "metadata": {},
     "output_type": "execute_result"
    }
   ],
   "source": [
    "before = 'abc....xyz'\n",
    "after = 'cde....zab'\n",
    "\n",
    "text = 'abcdefghixyz'\n",
    "trans = ''.maketrans(before, after)\n",
    "\n",
    "text.translate(trans)"
   ]
  },
  {
   "cell_type": "code",
   "execution_count": null,
   "id": "a3a70543",
   "metadata": {},
   "outputs": [],
   "source": []
  },
  {
   "cell_type": "code",
   "execution_count": null,
   "id": "92975aa7",
   "metadata": {},
   "outputs": [],
   "source": []
  },
  {
   "cell_type": "code",
   "execution_count": null,
   "id": "65689277",
   "metadata": {},
   "outputs": [],
   "source": []
  },
  {
   "cell_type": "code",
   "execution_count": null,
   "id": "32010487",
   "metadata": {},
   "outputs": [],
   "source": []
  },
  {
   "cell_type": "code",
   "execution_count": null,
   "id": "a7731c57",
   "metadata": {},
   "outputs": [],
   "source": []
  },
  {
   "cell_type": "code",
   "execution_count": null,
   "id": "aea644d5",
   "metadata": {},
   "outputs": [],
   "source": []
  },
  {
   "cell_type": "code",
   "execution_count": null,
   "id": "f20aa7db",
   "metadata": {},
   "outputs": [],
   "source": []
  }
 ],
 "metadata": {
  "kernelspec": {
   "display_name": "Python 3 (ipykernel)",
   "language": "python",
   "name": "python3"
  },
  "language_info": {
   "codemirror_mode": {
    "name": "ipython",
    "version": 3
   },
   "file_extension": ".py",
   "mimetype": "text/x-python",
   "name": "python",
   "nbconvert_exporter": "python",
   "pygments_lexer": "ipython3",
   "version": "3.9.7"
  }
 },
 "nbformat": 4,
 "nbformat_minor": 5
}
