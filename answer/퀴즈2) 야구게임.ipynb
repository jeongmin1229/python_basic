{
 "cells": [
  {
   "cell_type": "code",
   "execution_count": 7,
   "id": "4589be1d",
   "metadata": {},
   "outputs": [],
   "source": [
    "import requests as req\n",
    "res = req.get('http://ggoreb.com/quiz/baseball.txt')\n",
    "text = res.text\n",
    "\n",
    "정답 = [ text[0], text[1], text[2] ]\n",
    "입력 = '261'\n",
    "입력 = [ 입력[0], 입력[1], 입력[2] ]\n",
    "\n",
    "# 셀 분리 Shift + Ctrl + -"
   ]
  },
  {
   "cell_type": "code",
   "execution_count": 8,
   "id": "ac3eea88",
   "metadata": {},
   "outputs": [],
   "source": [
    "strike = 0\n",
    "ball = 0\n",
    "out = 0"
   ]
  },
  {
   "cell_type": "code",
   "execution_count": 9,
   "id": "fbf2ca0c",
   "metadata": {},
   "outputs": [],
   "source": [
    "if 정답[0] == 입력[0]:\n",
    "    strike += 1\n",
    "elif 정답[0] in 입력:\n",
    "    ball += 1\n",
    "else:\n",
    "    out += 1"
   ]
  },
  {
   "cell_type": "code",
   "execution_count": 10,
   "id": "dcfd4735",
   "metadata": {},
   "outputs": [],
   "source": [
    "    \n",
    "if 정답[1] == 입력[1]:\n",
    "    strike += 1\n",
    "elif 정답[1] in 입력:\n",
    "    ball += 1\n",
    "else:\n",
    "    out += 1\n",
    "\n",
    "if 정답[2] == 입력[2]:\n",
    "    strike += 1\n",
    "elif 정답[2] in 입력:\n",
    "    ball += 1\n",
    "else:\n",
    "    out += 1"
   ]
  },
  {
   "cell_type": "code",
   "execution_count": 11,
   "id": "5b562e4e",
   "metadata": {},
   "outputs": [
    {
     "name": "stdout",
     "output_type": "stream",
     "text": [
      "1S 2B\n"
     ]
    }
   ],
   "source": [
    "if out == 3:\n",
    "    print('아웃')\n",
    "else:\n",
    "    print('%dS %dB' % (strike, ball))"
   ]
  },
  {
   "cell_type": "code",
   "execution_count": null,
   "id": "4352f01b",
   "metadata": {},
   "outputs": [],
   "source": []
  }
 ],
 "metadata": {
  "kernelspec": {
   "display_name": "Python 3 (ipykernel)",
   "language": "python",
   "name": "python3"
  },
  "language_info": {
   "codemirror_mode": {
    "name": "ipython",
    "version": 3
   },
   "file_extension": ".py",
   "mimetype": "text/x-python",
   "name": "python",
   "nbconvert_exporter": "python",
   "pygments_lexer": "ipython3",
   "version": "3.9.7"
  }
 },
 "nbformat": 4,
 "nbformat_minor": 5
}
