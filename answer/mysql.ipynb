{
 "cells": [
  {
   "cell_type": "code",
   "execution_count": 1,
   "id": "4904453f-1401-47df-a333-a3328788776a",
   "metadata": {
    "scrolled": true
   },
   "outputs": [
    {
     "name": "stdout",
     "output_type": "stream",
     "text": [
      "Collecting pymysql\n",
      "  Downloading PyMySQL-1.0.2-py3-none-any.whl (43 kB)\n",
      "Installing collected packages: pymysql\n",
      "Successfully installed pymysql-1.0.2\n"
     ]
    }
   ],
   "source": [
    "!pip install pymysql"
   ]
  },
  {
   "cell_type": "code",
   "execution_count": null,
   "id": "49262ca8",
   "metadata": {},
   "outputs": [],
   "source": [
    "import pymysql # 모듈 import\n",
    "conn = pymysql.connect(\n",
    "  host='15.164.153.191', user='kfc',\n",
    "  password='1234',\n",
    "  db='kfc', charset='utf8'\n",
    ") # 데이터베이스 접속\n",
    "sql = '''\n",
    "select * from emp\n",
    "'''"
   ]
  },
  {
   "cell_type": "code",
   "execution_count": 2,
   "id": "532e4463-eea7-4e13-b9bb-89373e59c5c3",
   "metadata": {},
   "outputs": [
    {
     "name": "stdout",
     "output_type": "stream",
     "text": [
      "(7369, 'SMITH', 'CLERK', 7902, datetime.datetime(1980, 12, 17, 0, 0), 800, None, 20)\n",
      "(7499, 'ALLEN', 'SALESMAN', 7698, datetime.datetime(1981, 2, 20, 0, 0), 1600, 300, 30)\n",
      "(7521, 'WARD', 'SALESMAN', 7698, datetime.datetime(1981, 2, 22, 0, 0), 1250, 500, 30)\n",
      "(7566, 'JONES', 'MANAGER', 7839, datetime.datetime(1981, 4, 2, 0, 0), 2975, None, 20)\n",
      "(7654, 'MARTIN', 'SALESMAN', 7698, datetime.datetime(1981, 9, 28, 0, 0), 1250, 1400, 30)\n",
      "(7698, 'BLAKE', 'MANAGER', 7839, datetime.datetime(1981, 5, 1, 0, 0), 2850, None, 30)\n",
      "(7782, 'CLARK', 'MANAGER', 7839, datetime.datetime(1981, 6, 9, 0, 0), 2450, None, 10)\n",
      "(7788, 'SCOTT', 'ANALYST', 7566, datetime.datetime(1982, 12, 9, 0, 0), 3000, None, 20)\n",
      "(7839, 'KING', 'PRESIDENT', None, datetime.datetime(1981, 11, 17, 0, 0), 5000, None, 10)\n",
      "(7844, 'TURNER', 'SALESMAN', 7698, datetime.datetime(1981, 9, 8, 0, 0), 1500, 0, 30)\n",
      "(7876, 'ADAMS', 'CLERK', 7788, datetime.datetime(1983, 1, 12, 0, 0), 1100, None, 20)\n",
      "(7900, 'JAMES', 'CLERK', 7698, datetime.datetime(1981, 12, 3, 0, 0), 950, None, 30)\n",
      "(7902, 'FORD', 'ANALYST', 7566, datetime.datetime(1981, 12, 3, 0, 0), 3000, None, 20)\n",
      "(7934, 'MILLER', 'CLERK', 7782, datetime.datetime(1982, 1, 23, 0, 0), 1300, None, 10)\n"
     ]
    }
   ],
   "source": [
    "cursor = conn.cursor() # 커서 객체 생성\n",
    "cursor.execute(sql) # SQL 실행\n",
    "result = cursor.fetchall()\n",
    "for row in result:\n",
    "  print(row)\n",
    "conn.commit() # 실행내용 저장\n",
    "cursor.close() # 커서 객체 종료\n",
    "conn.close() # 접속 해제"
   ]
  }
 ],
 "metadata": {
  "kernelspec": {
   "display_name": "Python 3 (ipykernel)",
   "language": "python",
   "name": "python3"
  },
  "language_info": {
   "codemirror_mode": {
    "name": "ipython",
    "version": 3
   },
   "file_extension": ".py",
   "mimetype": "text/x-python",
   "name": "python",
   "nbconvert_exporter": "python",
   "pygments_lexer": "ipython3",
   "version": "3.9.7"
  }
 },
 "nbformat": 4,
 "nbformat_minor": 5
}
