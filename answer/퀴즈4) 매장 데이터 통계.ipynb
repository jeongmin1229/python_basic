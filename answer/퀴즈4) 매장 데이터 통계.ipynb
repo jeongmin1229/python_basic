{
 "cells": [
  {
   "cell_type": "markdown",
   "id": "b718f225",
   "metadata": {},
   "source": [
    "1. 데이터 가져오기"
   ]
  },
  {
   "cell_type": "code",
   "execution_count": 29,
   "id": "4352f01b",
   "metadata": {},
   "outputs": [],
   "source": [
    "import requests\n",
    "res = requests.get(\n",
    "    'http://ggoreb.com/quiz/shop.jsp')\n",
    "obj = res.json()"
   ]
  },
  {
   "cell_type": "markdown",
   "id": "2a551e9a",
   "metadata": {},
   "source": [
    "2. 업종(kind), 주소(address)를 저장할 변수 준비"
   ]
  },
  {
   "cell_type": "code",
   "execution_count": 44,
   "id": "7f8e2f67",
   "metadata": {},
   "outputs": [],
   "source": [
    "kind_dict = {}\n",
    "address_dict = {}"
   ]
  },
  {
   "cell_type": "markdown",
   "id": "8638fea7",
   "metadata": {},
   "source": [
    "3. 서버로부터 받은 데이터에서 업종과 주소 확인 후 저장\n",
    "- 주소는 \"OO구\"까지만\n",
    "- 주소를 Key로 사용하고 중복되는 주소의 개수를 Value로 사용"
   ]
  },
  {
   "cell_type": "code",
   "execution_count": 45,
   "id": "5bc43383",
   "metadata": {},
   "outputs": [],
   "source": [
    "shop_list = obj['list']\n",
    "for shop in shop_list:\n",
    "    address = shop['address']\n",
    "    address = address[:10]\n",
    "    \n",
    "    kind = shop['kind']\n",
    "    \n",
    "    if kind in kind_dict:\n",
    "        kind_dict[kind] += 1\n",
    "    else:\n",
    "        kind_dict[kind] = 1\n",
    "        \n",
    "    if address in address_dict:\n",
    "        address_dict[address] += 1\n",
    "    else:\n",
    "        address_dict[address] = 1"
   ]
  },
  {
   "cell_type": "code",
   "execution_count": 42,
   "id": "74d44cfe",
   "metadata": {
    "collapsed": true
   },
   "outputs": [
    {
     "data": {
      "text/plain": [
       "{'신변잡화-기타잡화': 1,\n",
       " '일반휴게음식-일반한식': 2,\n",
       " '사무통신-통신기기': 1,\n",
       " '학원-예•체능계학원': 1,\n",
       " '가구-기타가구': 53,\n",
       " '가구-일반가구': 316,\n",
       " '가구-철제가구': 3,\n",
       " '건강식품-기타건강식품': 166,\n",
       " '건강식품-인삼제품': 12,\n",
       " '건강식품-홍삼제품': 27,\n",
       " '건축자재-건축용 요업제품': 58,\n",
       " '건축자재-기타건축자재': 262,\n",
       " '건축자재-목재•석재•철물': 98}"
      ]
     },
     "execution_count": 42,
     "metadata": {},
     "output_type": "execute_result"
    }
   ],
   "source": [
    "kind_dict"
   ]
  },
  {
   "cell_type": "code",
   "execution_count": 47,
   "id": "6a4047fc",
   "metadata": {
    "collapsed": true
   },
   "outputs": [
    {
     "data": {
      "text/plain": [
       "(['신변잡화-기타잡화',\n",
       "  '일반휴게음식-일반한식',\n",
       "  '사무통신-통신기기',\n",
       "  '학원-예•체능계학원',\n",
       "  '가구-기타가구',\n",
       "  '가구-일반가구',\n",
       "  '가구-철제가구',\n",
       "  '건강식품-기타건강식품',\n",
       "  '건강식품-인삼제품',\n",
       "  '건강식품-홍삼제품',\n",
       "  '건축자재-건축용 요업제품',\n",
       "  '건축자재-기타건축자재',\n",
       "  '건축자재-목재•석재•철물'],\n",
       " [1, 2, 1, 1, 53, 316, 3, 166, 12, 27, 58, 262, 98])"
      ]
     },
     "execution_count": 47,
     "metadata": {},
     "output_type": "execute_result"
    }
   ],
   "source": [
    "x = list( kind_dict.keys() )\n",
    "y = list( kind_dict.values() )\n",
    "x, y"
   ]
  },
  {
   "cell_type": "code",
   "execution_count": 51,
   "id": "22973aee",
   "metadata": {},
   "outputs": [
    {
     "data": {
      "image/png": "[encoded data removed]",
      "text/plain": [
       "<Figure size 432x288 with 1 Axes>"
      ]
     },
     "metadata": {
      "needs_background": "light"
     },
     "output_type": "display_data"
    }
   ],
   "source": [
    "import matplotlib.pyplot as plt\n",
    "from matplotlib import font_manager, rc\n",
    "font_name = font_manager.FontProperties(\n",
    "fname='c:/Windows/Fonts/malgun.ttf').get_name()\n",
    "rc('font', family=font_name)\n",
    "\n",
    "plt.bar(x, y)\n",
    "plt.xticks(x, rotation=90)\n",
    "plt.grid()\n",
    "plt.show()"
   ]
  },
  {
   "cell_type": "code",
   "execution_count": 46,
   "id": "70f70ea3",
   "metadata": {},
   "outputs": [
    {
     "data": {
      "text/plain": [
       "{'경기 용인시 수지구': 202, '경기 용인시 처인구': 475, '경기 용인시 기흥구': 323}"
      ]
     },
     "execution_count": 46,
     "metadata": {},
     "output_type": "execute_result"
    }
   ],
   "source": [
    "address_dict"
   ]
  },
  {
   "cell_type": "code",
   "execution_count": null,
   "id": "5fb3e684",
   "metadata": {},
   "outputs": [],
   "source": []
  },
  {
   "cell_type": "code",
   "execution_count": null,
   "id": "eaaab8da",
   "metadata": {},
   "outputs": [],
   "source": []
  },
  {
   "cell_type": "code",
   "execution_count": null,
   "id": "7081d376",
   "metadata": {},
   "outputs": [],
   "source": []
  },
  {
   "cell_type": "code",
   "execution_count": null,
   "id": "ff3c2473",
   "metadata": {},
   "outputs": [],
   "source": []
  },
  {
   "cell_type": "code",
   "execution_count": null,
   "id": "9ad65256",
   "metadata": {},
   "outputs": [],
   "source": []
  },
  {
   "cell_type": "code",
   "execution_count": null,
   "id": "438af1d7",
   "metadata": {},
   "outputs": [],
   "source": []
  },
  {
   "cell_type": "code",
   "execution_count": null,
   "id": "2dd7261c",
   "metadata": {},
   "outputs": [],
   "source": []
  },
  {
   "cell_type": "code",
   "execution_count": null,
   "id": "6139a90e",
   "metadata": {},
   "outputs": [],
   "source": []
  },
  {
   "cell_type": "code",
   "execution_count": null,
   "id": "c38cc5e6",
   "metadata": {},
   "outputs": [],
   "source": []
  },
  {
   "cell_type": "code",
   "execution_count": null,
   "id": "ab996b04",
   "metadata": {},
   "outputs": [],
   "source": []
  },
  {
   "cell_type": "code",
   "execution_count": null,
   "id": "43919547",
   "metadata": {},
   "outputs": [],
   "source": []
  },
  {
   "cell_type": "code",
   "execution_count": null,
   "id": "da7e306d",
   "metadata": {},
   "outputs": [],
   "source": []
  },
  {
   "cell_type": "code",
   "execution_count": null,
   "id": "aa0bc665",
   "metadata": {},
   "outputs": [],
   "source": []
  },
  {
   "cell_type": "code",
   "execution_count": null,
   "id": "81334587",
   "metadata": {},
   "outputs": [],
   "source": []
  },
  {
   "cell_type": "markdown",
   "id": "341e5d66",
   "metadata": {},
   "source": [
    "3. 서버로부터 받은 데이터에서 업종과 주소 확인 후 저장\n",
    "- 주소는 \"OO구\"까지만\n",
    "- 주소를 Key로 사용하고 중복되는 주소의 개수를 Value로 사용"
   ]
  },
  {
   "cell_type": "code",
   "execution_count": 15,
   "id": "50f8b5b0",
   "metadata": {},
   "outputs": [],
   "source": [
    "shop_list = obj['list']\n",
    "for shop in shop_list:\n",
    "    k = shop['kind']\n",
    "    a = shop['address']\n",
    "    \n",
    "    if k in kind_dict:\n",
    "        kind_dict[k] += 1\n",
    "    else:\n",
    "        kind_dict[k] = 1\n",
    "    \n",
    "#     a = a[0:10]\n",
    "    a = a[:a.find('구 ')+1]\n",
    "    if a in address_dict:\n",
    "        address_dict[a] += 1\n",
    "    else:\n",
    "        address_dict[a] = 1"
   ]
  },
  {
   "cell_type": "markdown",
   "id": "19c4e78c",
   "metadata": {},
   "source": [
    "4. 출력"
   ]
  },
  {
   "cell_type": "code",
   "execution_count": 16,
   "id": "20711b29",
   "metadata": {},
   "outputs": [
    {
     "data": {
      "text/plain": [
       "{'경기 용인시 수지구': 202, '경기 용인시 처인구': 475, '경기 용인시 기흥구': 323}"
      ]
     },
     "execution_count": 16,
     "metadata": {},
     "output_type": "execute_result"
    }
   ],
   "source": [
    "address_dict"
   ]
  },
  {
   "cell_type": "code",
   "execution_count": 17,
   "id": "b4739558",
   "metadata": {},
   "outputs": [
    {
     "data": {
      "text/plain": [
       "{'신변잡화-기타잡화': 1,\n",
       " '일반휴게음식-일반한식': 2,\n",
       " '사무통신-통신기기': 1,\n",
       " '학원-예•체능계학원': 1,\n",
       " '가구-기타가구': 53,\n",
       " '가구-일반가구': 316,\n",
       " '가구-철제가구': 3,\n",
       " '건강식품-기타건강식품': 166,\n",
       " '건강식품-인삼제품': 12,\n",
       " '건강식품-홍삼제품': 27,\n",
       " '건축자재-건축용 요업제품': 58,\n",
       " '건축자재-기타건축자재': 262,\n",
       " '건축자재-목재•석재•철물': 98}"
      ]
     },
     "execution_count": 17,
     "metadata": {},
     "output_type": "execute_result"
    }
   ],
   "source": [
    "kind_dict"
   ]
  },
  {
   "cell_type": "code",
   "execution_count": 28,
   "id": "a87d4aea",
   "metadata": {
    "scrolled": false
   },
   "outputs": [
    {
     "data": {
      "image/png": "[encoded data removed]",
      "text/plain": [
       "<Figure size 432x288 with 1 Axes>"
      ]
     },
     "metadata": {
      "needs_background": "light"
     },
     "output_type": "display_data"
    }
   ],
   "source": [
    "import matplotlib.pyplot as plt\n",
    "from matplotlib import font_manager, rc\n",
    "font_name = font_manager.FontProperties(\n",
    "fname='c:/Windows/Fonts/malgun.ttf').get_name()\n",
    "rc('font', family=font_name)\n",
    "\n",
    "plt.bar(kind_dict.keys(), kind_dict.values())\n",
    "plt.xticks(list(kind_dict.keys()), rotation=90)\n",
    "plt.grid()\n",
    "plt.show()"
   ]
  },
  {
   "cell_type": "code",
   "execution_count": null,
   "id": "82d367be",
   "metadata": {},
   "outputs": [],
   "source": []
  }
 ],
 "metadata": {
  "kernelspec": {
   "display_name": "Python 3 (ipykernel)",
   "language": "python",
   "name": "python3"
  },
  "language_info": {
   "codemirror_mode": {
    "name": "ipython",
    "version": 3
   },
   "file_extension": ".py",
   "mimetype": "text/x-python",
   "name": "python",
   "nbconvert_exporter": "python",
   "pygments_lexer": "ipython3",
   "version": "3.9.7"
  }
 },
 "nbformat": 4,
 "nbformat_minor": 5
}
