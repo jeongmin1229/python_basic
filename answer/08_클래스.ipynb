{
 "cells": [
  {
   "cell_type": "code",
   "execution_count": 1,
   "id": "690df23f",
   "metadata": {},
   "outputs": [],
   "source": [
    "class Computer:\n",
    "    power = False\n",
    "    def powerOn(self):\n",
    "        self.power = True\n",
    "        print('전원 ON')\n",
    "    def powerOff(self):\n",
    "        self.power = False\n",
    "        print('전원 OFF')"
   ]
  },
  {
   "cell_type": "code",
   "execution_count": 4,
   "id": "6d8765b0",
   "metadata": {},
   "outputs": [
    {
     "data": {
      "text/plain": [
       "(1933415670496,\n",
       " <__main__.Computer at 0x1c2288de2e0>,\n",
       " 1933415673712,\n",
       " <__main__.Computer at 0x1c2288def70>)"
      ]
     },
     "execution_count": 4,
     "metadata": {},
     "output_type": "execute_result"
    }
   ],
   "source": [
    "c = Computer()\n",
    "c2 = Computer()\n",
    "id(c), c, id(c2), c2"
   ]
  },
  {
   "cell_type": "code",
   "execution_count": 6,
   "id": "eb2b72ff",
   "metadata": {},
   "outputs": [
    {
     "ename": "TypeError",
     "evalue": "write() takes 1 positional argument but 2 were given",
     "output_type": "error",
     "traceback": [
      "\u001b[1;31m---------------------------------------------------------------------------\u001b[0m",
      "\u001b[1;31mTypeError\u001b[0m                                 Traceback (most recent call last)",
      "\u001b[1;32m~\\AppData\\Local\\Temp/ipykernel_5480/1037058872.py\u001b[0m in \u001b[0;36m<module>\u001b[1;34m\u001b[0m\n\u001b[0;32m     11\u001b[0m \u001b[1;33m\u001b[0m\u001b[0m\n\u001b[0;32m     12\u001b[0m \u001b[0memail\u001b[0m \u001b[1;33m=\u001b[0m \u001b[0mEmail\u001b[0m\u001b[1;33m(\u001b[0m\u001b[1;33m)\u001b[0m\u001b[1;33m\u001b[0m\u001b[1;33m\u001b[0m\u001b[0m\n\u001b[1;32m---> 13\u001b[1;33m \u001b[0memail\u001b[0m\u001b[1;33m.\u001b[0m\u001b[0mwrite\u001b[0m\u001b[1;33m(\u001b[0m\u001b[1;34m'a'\u001b[0m\u001b[1;33m)\u001b[0m\u001b[1;33m\u001b[0m\u001b[1;33m\u001b[0m\u001b[0m\n\u001b[0m\u001b[0;32m     14\u001b[0m \u001b[0memail\u001b[0m\u001b[1;33m.\u001b[0m\u001b[0mshow\u001b[0m\u001b[1;33m(\u001b[0m\u001b[1;33m)\u001b[0m\u001b[1;33m\u001b[0m\u001b[1;33m\u001b[0m\u001b[0m\n",
      "\u001b[1;31mTypeError\u001b[0m: write() takes 1 positional argument but 2 were given"
     ]
    }
   ],
   "source": [
    "class Letter:\n",
    "    letter = ''\n",
    "    def write(self, text):\n",
    "        self.letter += text\n",
    "        \n",
    "    def show(self):\n",
    "        return self.letter\n",
    "\n",
    "class Email(Letter):\n",
    "    pass\n",
    "\n",
    "email = Email()\n",
    "email.write('a')\n",
    "email.show()"
   ]
  },
  {
   "cell_type": "code",
   "execution_count": 11,
   "id": "b82d4b1e",
   "metadata": {
    "collapsed": true
   },
   "outputs": [
    {
     "data": {
      "text/plain": [
       "[<matplotlib.lines.Line2D at 0x1c22a2d7640>]"
      ]
     },
     "execution_count": 11,
     "metadata": {},
     "output_type": "execute_result"
    },
    {
     "data": {
      "image/png": "[encoded data removed]",
      "text/plain": [
       "<Figure size 432x288 with 1 Axes>"
      ]
     },
     "metadata": {
      "needs_background": "light"
     },
     "output_type": "display_data"
    }
   ],
   "source": [
    "# 1. matplotlib 클래스인 경우\n",
    "# 2. matplotlib 폴더인 경우\n",
    "#           폴더명.파일명\n",
    "import matplotlib.pyplot as plt\n",
    "plt.plot([1, 4, 2])\n",
    "# plt.show()"
   ]
  },
  {
   "cell_type": "code",
   "execution_count": 12,
   "id": "a4b81485",
   "metadata": {
    "scrolled": true
   },
   "outputs": [
    {
     "data": {
      "text/plain": [
       "3"
      ]
     },
     "execution_count": 12,
     "metadata": {},
     "output_type": "execute_result"
    }
   ],
   "source": [
    "import random\n",
    "random.randint(1, 6)"
   ]
  },
  {
   "cell_type": "code",
   "execution_count": 13,
   "id": "204811ca",
   "metadata": {},
   "outputs": [
    {
     "data": {
      "text/plain": [
       "3"
      ]
     },
     "execution_count": 13,
     "metadata": {},
     "output_type": "execute_result"
    }
   ],
   "source": [
    "from random import randint\n",
    "randint(1, 6)"
   ]
  },
  {
   "cell_type": "code",
   "execution_count": null,
   "id": "696f0887",
   "metadata": {},
   "outputs": [],
   "source": [
    "from matplotlib.pyplot import plot\n",
    "plot([1, 4, 2])"
   ]
  },
  {
   "cell_type": "code",
   "execution_count": 10,
   "id": "4e00304d",
   "metadata": {},
   "outputs": [],
   "source": [
    "import random\n",
    "import re"
   ]
  },
  {
   "cell_type": "code",
   "execution_count": null,
   "id": "6cbb24e6",
   "metadata": {},
   "outputs": [],
   "source": [
    "if __name__ == '__main__':\n",
    "    pass"
   ]
  },
  {
   "cell_type": "code",
   "execution_count": 1,
   "id": "ce8bb9f7",
   "metadata": {},
   "outputs": [
    {
     "name": "stdout",
     "output_type": "stream",
     "text": [
      "Test\n",
      "Run!!!\n"
     ]
    }
   ],
   "source": [
    "import Test\n",
    "Test.run()"
   ]
  },
  {
   "cell_type": "code",
   "execution_count": 2,
   "id": "1fb0da94",
   "metadata": {},
   "outputs": [
    {
     "data": {
      "text/plain": [
       "'__main__'"
      ]
     },
     "execution_count": 2,
     "metadata": {},
     "output_type": "execute_result"
    }
   ],
   "source": [
    "__name__"
   ]
  },
  {
   "cell_type": "code",
   "execution_count": 19,
   "id": "d3d5df2a",
   "metadata": {},
   "outputs": [
    {
     "data": {
      "text/plain": [
       "[]"
      ]
     },
     "execution_count": 19,
     "metadata": {},
     "output_type": "execute_result"
    },
    {
     "data": {
      "image/png": "[encoded data removed]",
      "text/plain": [
       "<Figure size 432x288 with 1 Axes>"
      ]
     },
     "metadata": {
      "needs_background": "light"
     },
     "output_type": "display_data"
    }
   ],
   "source": [
    "import matplotlib.pyplot\n",
    "matplotlib.pyplot.plot()"
   ]
  },
  {
   "cell_type": "code",
   "execution_count": 11,
   "id": "cc45f599",
   "metadata": {},
   "outputs": [],
   "source": [
    "import driver.sound.mp3\n",
    "driver.sound.mp3.sound()"
   ]
  },
  {
   "cell_type": "code",
   "execution_count": 14,
   "id": "c4898750",
   "metadata": {},
   "outputs": [
    {
     "name": "stdout",
     "output_type": "stream",
     "text": [
      "mp3~~\n"
     ]
    }
   ],
   "source": [
    "from driver.sound import mp3\n",
    "mp3.sound()"
   ]
  },
  {
   "cell_type": "code",
   "execution_count": 13,
   "id": "1f924a2c",
   "metadata": {},
   "outputs": [
    {
     "name": "stdout",
     "output_type": "stream",
     "text": [
      "mp3~~\n"
     ]
    }
   ],
   "source": [
    "from driver.sound.mp3 import sound\n",
    "sound()"
   ]
  },
  {
   "cell_type": "code",
   "execution_count": 16,
   "id": "1146c820",
   "metadata": {},
   "outputs": [],
   "source": [
    "from com.ggoreb.python.writer import file\n",
    "file.write()"
   ]
  },
  {
   "cell_type": "code",
   "execution_count": null,
   "id": "558d7b15",
   "metadata": {},
   "outputs": [],
   "source": []
  }
 ],
 "metadata": {
  "kernelspec": {
   "display_name": "Python 3 (ipykernel)",
   "language": "python",
   "name": "python3"
  },
  "language_info": {
   "codemirror_mode": {
    "name": "ipython",
    "version": 3
   },
   "file_extension": ".py",
   "mimetype": "text/x-python",
   "name": "python",
   "nbconvert_exporter": "python",
   "pygments_lexer": "ipython3",
   "version": "3.9.7"
  }
 },
 "nbformat": 4,
 "nbformat_minor": 5
}
