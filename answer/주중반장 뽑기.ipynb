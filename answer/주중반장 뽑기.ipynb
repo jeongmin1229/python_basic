{
 "cells": [
  {
   "cell_type": "code",
   "execution_count": 1,
   "id": "c64ac95e-d888-42a8-a9d4-c0290a53dee9",
   "metadata": {},
   "outputs": [],
   "source": [
    "names = ['김도균', \n",
    "'유한나', '최현아', '오주연', \n",
    "'김준현', '이재영', '장대웅', \n",
    "'한수정', '김서영', '한수용', \n",
    "'유준희', '이정민', '박현우', \n",
    "'이보라', '이승준', '정인혜', \n",
    "'김도연', '유영광', '이진경', \n",
    "'조재우', '강민석', '윤미', \n",
    "'최수민', '황경민', ]"
   ]
  },
  {
   "cell_type": "code",
   "execution_count": null,
   "id": "60e4395b",
   "metadata": {},
   "outputs": [],
   "source": [
    "import random\n",
    "random.choice(names)"
   ]
  }
 ],
 "metadata": {
  "kernelspec": {
   "display_name": "Python 3 (ipykernel)",
   "language": "python",
   "name": "python3"
  },
  "language_info": {
   "codemirror_mode": {
    "name": "ipython",
    "version": 3
   },
   "file_extension": ".py",
   "mimetype": "text/x-python",
   "name": "python",
   "nbconvert_exporter": "python",
   "pygments_lexer": "ipython3",
   "version": "3.9.7"
  }
 },
 "nbformat": 4,
 "nbformat_minor": 5
}
