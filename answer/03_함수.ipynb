{
 "cells": [
  {
   "cell_type": "code",
   "execution_count": 3,
   "id": "2b51679b",
   "metadata": {},
   "outputs": [
    {
     "data": {
      "image/png": "[encoded data removed]",
      "text/plain": [
       "<Figure size 432x288 with 1 Axes>"
      ]
     },
     "metadata": {
      "needs_background": "light"
     },
     "output_type": "display_data"
    }
   ],
   "source": [
    "import matplotlib.pyplot as plt\n",
    "plt.plot([4, 2, 6, 5, 1])\n",
    "plt.show()  # 생략 가능"
   ]
  },
  {
   "cell_type": "code",
   "execution_count": 4,
   "id": "c893234e",
   "metadata": {},
   "outputs": [],
   "source": [
    "def is_odd(n):\n",
    "    if n % 2 == 1:\n",
    "        return '홀'\n",
    "    else:\n",
    "        return '짝'"
   ]
  },
  {
   "cell_type": "code",
   "execution_count": 6,
   "id": "0172bb47",
   "metadata": {},
   "outputs": [
    {
     "name": "stdout",
     "output_type": "stream",
     "text": [
      "홀 짝\n"
     ]
    }
   ],
   "source": [
    "print(  is_odd(3), is_odd(4)  )"
   ]
  },
  {
   "cell_type": "code",
   "execution_count": 25,
   "id": "523d263b",
   "metadata": {
    "collapsed": true
   },
   "outputs": [
    {
     "ename": "TypeError",
     "evalue": "'float' object cannot be interpreted as an integer",
     "output_type": "error",
     "traceback": [
      "\u001b[1;31m---------------------------------------------------------------------------\u001b[0m",
      "\u001b[1;31mTypeError\u001b[0m                                 Traceback (most recent call last)",
      "\u001b[1;32m~\\AppData\\Local\\Temp/ipykernel_9836/799682720.py\u001b[0m in \u001b[0;36m<module>\u001b[1;34m\u001b[0m\n\u001b[0;32m      4\u001b[0m         \u001b[0mt\u001b[0m \u001b[1;33m+=\u001b[0m \u001b[0mi\u001b[0m\u001b[1;33m\u001b[0m\u001b[1;33m\u001b[0m\u001b[0m\n\u001b[0;32m      5\u001b[0m     \u001b[1;32mreturn\u001b[0m \u001b[0mt\u001b[0m\u001b[1;33m\u001b[0m\u001b[1;33m\u001b[0m\u001b[0m\n\u001b[1;32m----> 6\u001b[1;33m \u001b[0mtotal\u001b[0m\u001b[1;33m(\u001b[0m\u001b[1;36m0.5\u001b[0m\u001b[1;33m)\u001b[0m\u001b[1;33m\u001b[0m\u001b[1;33m\u001b[0m\u001b[0m\n\u001b[0m",
      "\u001b[1;32m~\\AppData\\Local\\Temp/ipykernel_9836/799682720.py\u001b[0m in \u001b[0;36mtotal\u001b[1;34m(n)\u001b[0m\n\u001b[0;32m      1\u001b[0m \u001b[1;32mdef\u001b[0m \u001b[0mtotal\u001b[0m\u001b[1;33m(\u001b[0m\u001b[0mn\u001b[0m\u001b[1;33m)\u001b[0m\u001b[1;33m:\u001b[0m\u001b[1;33m\u001b[0m\u001b[1;33m\u001b[0m\u001b[0m\n\u001b[0;32m      2\u001b[0m     \u001b[0mt\u001b[0m \u001b[1;33m=\u001b[0m \u001b[1;36m0\u001b[0m\u001b[1;33m\u001b[0m\u001b[1;33m\u001b[0m\u001b[0m\n\u001b[1;32m----> 3\u001b[1;33m     \u001b[1;32mfor\u001b[0m \u001b[0mi\u001b[0m \u001b[1;32min\u001b[0m \u001b[0mrange\u001b[0m\u001b[1;33m(\u001b[0m\u001b[1;36m1\u001b[0m\u001b[1;33m,\u001b[0m \u001b[0mn\u001b[0m\u001b[1;33m+\u001b[0m\u001b[1;36m1\u001b[0m\u001b[1;33m)\u001b[0m\u001b[1;33m:\u001b[0m\u001b[1;33m\u001b[0m\u001b[1;33m\u001b[0m\u001b[0m\n\u001b[0m\u001b[0;32m      4\u001b[0m         \u001b[0mt\u001b[0m \u001b[1;33m+=\u001b[0m \u001b[0mi\u001b[0m\u001b[1;33m\u001b[0m\u001b[1;33m\u001b[0m\u001b[0m\n\u001b[0;32m      5\u001b[0m     \u001b[1;32mreturn\u001b[0m \u001b[0mt\u001b[0m\u001b[1;33m\u001b[0m\u001b[1;33m\u001b[0m\u001b[0m\n",
      "\u001b[1;31mTypeError\u001b[0m: 'float' object cannot be interpreted as an integer"
     ]
    }
   ],
   "source": [
    "def total(n):\n",
    "    t = 0\n",
    "    for i in range(1, n+1):\n",
    "        t += i\n",
    "    return t\n",
    "total(0.5)"
   ]
  },
  {
   "cell_type": "code",
   "execution_count": 11,
   "id": "c6f80c29",
   "metadata": {},
   "outputs": [
    {
     "data": {
      "text/plain": [
       "(30, 7.5)"
      ]
     },
     "execution_count": 11,
     "metadata": {},
     "output_type": "execute_result"
    }
   ],
   "source": [
    "def calculator(items):\n",
    "    t = 0\n",
    "    for i in items:\n",
    "        t += i\n",
    "    avg = t / len(items)\n",
    "    return (t, avg)\n",
    "calculator([3, 7, 9, 11])"
   ]
  },
  {
   "cell_type": "code",
   "execution_count": 14,
   "id": "e105a93d",
   "metadata": {},
   "outputs": [
    {
     "data": {
      "text/plain": [
       "10"
      ]
     },
     "execution_count": 14,
     "metadata": {},
     "output_type": "execute_result"
    }
   ],
   "source": [
    "def seq(n):\n",
    "    temp = 0\n",
    "    total = 0\n",
    "    for i in range(n+1):\n",
    "        temp = temp + i\n",
    "        total = total + temp\n",
    "    return total\n",
    "seq(3)"
   ]
  },
  {
   "cell_type": "code",
   "execution_count": 18,
   "id": "debe3f6a",
   "metadata": {
    "scrolled": true
   },
   "outputs": [
    {
     "data": {
      "text/plain": [
       "'bc'"
      ]
     },
     "execution_count": 18,
     "metadata": {},
     "output_type": "execute_result"
    }
   ],
   "source": [
    "def get_middle(text):\n",
    "    # 012\n",
    "    # abc -> b\n",
    "    # abcd -> bc\n",
    "    center = len(text) // 2\n",
    "    if len(text) % 2 == 1: # 홀수\n",
    "        return text[center]\n",
    "    else:\n",
    "        return text[center-1:center+1]\n",
    "get_middle('abcd')"
   ]
  },
  {
   "cell_type": "code",
   "execution_count": 24,
   "id": "9d63b4f7",
   "metadata": {},
   "outputs": [
    {
     "data": {
      "text/plain": [
       "'수박수'"
      ]
     },
     "execution_count": 24,
     "metadata": {},
     "output_type": "execute_result"
    }
   ],
   "source": [
    "def str_print(n):\n",
    "    s = '수박'\n",
    "    result = s * (n // 2)\n",
    "    if n % 2 == 1:\n",
    "        result += s[0]\n",
    "    return result\n",
    "\n",
    "str_print(3)"
   ]
  },
  {
   "cell_type": "code",
   "execution_count": 32,
   "id": "a39364ee",
   "metadata": {},
   "outputs": [
    {
     "data": {
      "text/plain": [
       "15"
      ]
     },
     "execution_count": 32,
     "metadata": {},
     "output_type": "execute_result"
    }
   ],
   "source": [
    "def total(n):\n",
    "    t = 0\n",
    "    while n > 0:\n",
    "        나머지 = n % 10\n",
    "        t = t + 나머지\n",
    "        n = n // 10\n",
    "    return t\n",
    "total(12345)"
   ]
  },
  {
   "cell_type": "code",
   "execution_count": 30,
   "id": "5c778002",
   "metadata": {},
   "outputs": [
    {
     "data": {
      "text/plain": [
       "0"
      ]
     },
     "execution_count": 30,
     "metadata": {},
     "output_type": "execute_result"
    }
   ],
   "source": [
    "1 // 10"
   ]
  },
  {
   "cell_type": "code",
   "execution_count": 34,
   "id": "64b7f2d1",
   "metadata": {
    "scrolled": true
   },
   "outputs": [
    {
     "name": "stdout",
     "output_type": "stream",
     "text": [
      "10\n"
     ]
    }
   ],
   "source": [
    "age = 100\n",
    "\n",
    "def func():\n",
    "    global age\n",
    "    age = 10\n",
    "\n",
    "func()\n",
    "\n",
    "print(age)"
   ]
  },
  {
   "cell_type": "code",
   "execution_count": 35,
   "id": "99081527",
   "metadata": {},
   "outputs": [
    {
     "data": {
      "text/plain": [
       "6"
      ]
     },
     "execution_count": 35,
     "metadata": {},
     "output_type": "execute_result"
    }
   ],
   "source": [
    "def size(a, b):\n",
    "    return len(a) + len(b)\n",
    "size('abc', '123')"
   ]
  },
  {
   "cell_type": "code",
   "execution_count": 37,
   "id": "0964f6fa",
   "metadata": {},
   "outputs": [],
   "source": [
    "size = lambda a, b: len(a) + len(b)"
   ]
  },
  {
   "cell_type": "code",
   "execution_count": 40,
   "id": "2a7e3164",
   "metadata": {},
   "outputs": [
    {
     "data": {
      "text/plain": [
       "6"
      ]
     },
     "execution_count": 40,
     "metadata": {},
     "output_type": "execute_result"
    }
   ],
   "source": [
    "size('1234', 'ab')"
   ]
  },
  {
   "cell_type": "code",
   "execution_count": 41,
   "id": "30f9129c",
   "metadata": {},
   "outputs": [
    {
     "data": {
      "text/plain": [
       "[6, 7, 8]"
      ]
     },
     "execution_count": 41,
     "metadata": {},
     "output_type": "execute_result"
    }
   ],
   "source": [
    "myfunc = lambda numbers: [ n for n in numbers if n > 5 ]\n",
    "myfunc([2, 3, 4, 5, 6, 7, 8])"
   ]
  },
  {
   "cell_type": "code",
   "execution_count": null,
   "id": "a529054f",
   "metadata": {},
   "outputs": [],
   "source": []
  },
  {
   "cell_type": "code",
   "execution_count": null,
   "id": "6ceb1d06",
   "metadata": {},
   "outputs": [],
   "source": []
  }
 ],
 "metadata": {
  "kernelspec": {
   "display_name": "Python 3 (ipykernel)",
   "language": "python",
   "name": "python3"
  },
  "language_info": {
   "codemirror_mode": {
    "name": "ipython",
    "version": 3
   },
   "file_extension": ".py",
   "mimetype": "text/x-python",
   "name": "python",
   "nbconvert_exporter": "python",
   "pygments_lexer": "ipython3",
   "version": "3.9.7"
  }
 },
 "nbformat": 4,
 "nbformat_minor": 5
}
