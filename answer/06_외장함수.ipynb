{
 "cells": [
  {
   "cell_type": "code",
   "execution_count": 1,
   "id": "690df23f",
   "metadata": {
    "collapsed": true
   },
   "outputs": [
    {
     "data": {
      "text/plain": [
       "['C:\\\\python',\n",
       " 'C:\\\\ProgramData\\\\Anaconda3\\\\python39.zip',\n",
       " 'C:\\\\ProgramData\\\\Anaconda3\\\\DLLs',\n",
       " 'C:\\\\ProgramData\\\\Anaconda3\\\\lib',\n",
       " 'C:\\\\ProgramData\\\\Anaconda3',\n",
       " '',\n",
       " 'C:\\\\ProgramData\\\\Anaconda3\\\\lib\\\\site-packages',\n",
       " 'C:\\\\ProgramData\\\\Anaconda3\\\\lib\\\\site-packages\\\\locket-0.2.1-py3.9.egg',\n",
       " 'C:\\\\ProgramData\\\\Anaconda3\\\\lib\\\\site-packages\\\\win32',\n",
       " 'C:\\\\ProgramData\\\\Anaconda3\\\\lib\\\\site-packages\\\\win32\\\\lib',\n",
       " 'C:\\\\ProgramData\\\\Anaconda3\\\\lib\\\\site-packages\\\\Pythonwin',\n",
       " 'C:\\\\ProgramData\\\\Anaconda3\\\\lib\\\\site-packages\\\\IPython\\\\extensions',\n",
       " 'C:\\\\Users\\\\admin\\\\.ipython']"
      ]
     },
     "execution_count": 1,
     "metadata": {},
     "output_type": "execute_result"
    }
   ],
   "source": [
    "import sys\n",
    "sys.path"
   ]
  },
  {
   "cell_type": "code",
   "execution_count": 3,
   "id": "6c9cd598",
   "metadata": {},
   "outputs": [],
   "source": [
    "# 디렉토리 및 파일 생성하기\n",
    "import os\n",
    "os.makedirs('python_dir/a')\n",
    "f = open('python_dir/a/a.txt', 'wt')\n",
    "f.close()"
   ]
  },
  {
   "cell_type": "code",
   "execution_count": 4,
   "id": "edbf4527",
   "metadata": {},
   "outputs": [],
   "source": [
    "os.mkdir('python_dir/b')\n",
    "f = open('python_dir/b/b.txt', 'wt')\n",
    "f.close()"
   ]
  },
  {
   "cell_type": "code",
   "execution_count": 9,
   "id": "3bda241b",
   "metadata": {},
   "outputs": [
    {
     "name": "stdout",
     "output_type": "stream",
     "text": [
      "파일개수 174 개\n"
     ]
    }
   ],
   "source": [
    "import glob\n",
    "files = glob.glob('c:/programdata/anaconda3/lib/*.py')\n",
    "print(   '파일개수 %s 개' % len(files)   )"
   ]
  },
  {
   "cell_type": "code",
   "execution_count": null,
   "id": "e6d2c8c0",
   "metadata": {},
   "outputs": [],
   "source": [
    "c:/programdata/anaconda3/lib"
   ]
  },
  {
   "cell_type": "code",
   "execution_count": 10,
   "id": "e52e9cbb",
   "metadata": {},
   "outputs": [
    {
     "data": {
      "text/plain": [
       "1651112172.7193675"
      ]
     },
     "execution_count": 10,
     "metadata": {},
     "output_type": "execute_result"
    }
   ],
   "source": [
    "import time\n",
    "time.time()  # Unix Time (Linux, MacOS, iOS)"
   ]
  },
  {
   "cell_type": "code",
   "execution_count": 22,
   "id": "2cca1053",
   "metadata": {},
   "outputs": [
    {
     "data": {
      "text/plain": [
       "35"
      ]
     },
     "execution_count": 22,
     "metadata": {},
     "output_type": "execute_result"
    }
   ],
   "source": [
    "import random\n",
    "random.seed(2022)\n",
    "random.randint(1, 45)"
   ]
  },
  {
   "cell_type": "code",
   "execution_count": 23,
   "id": "0bc92a70",
   "metadata": {},
   "outputs": [
    {
     "data": {
      "text/plain": [
       "'2022년 04월 28일 11:40'"
      ]
     },
     "execution_count": 23,
     "metadata": {},
     "output_type": "execute_result"
    }
   ],
   "source": [
    "# 2022년 04월 28일 11:40\n",
    "time.strftime(\n",
    "    '%Y년 %m월 %d일 %H:%M', \n",
    "    time.localtime( time.time() ) \n",
    ")"
   ]
  },
  {
   "cell_type": "code",
   "execution_count": null,
   "id": "c62d2287",
   "metadata": {},
   "outputs": [],
   "source": [
    "# for i in range(100000000)\n",
    "# 데이터 수집할 때 사용 할 수 있음 \n",
    "# 웹사이트가 느려서, 고의로 몇초 대기 후 실행하는 사이트\n",
    "time.sleep(1)"
   ]
  },
  {
   "cell_type": "code",
   "execution_count": 25,
   "id": "a248cc2e",
   "metadata": {},
   "outputs": [
    {
     "data": {
      "text/plain": [
       "'2022년 08월 06일'"
      ]
     },
     "execution_count": 25,
     "metadata": {},
     "output_type": "execute_result"
    }
   ],
   "source": [
    "# 100일 후 날짜 확인하기\n",
    "import time\n",
    "d100 = time.time() + (  60*60*24*100  )\n",
    "time.strftime(\n",
    "    '%Y년 %m월 %d일', \n",
    "    time.localtime( d100 ) \n",
    ")"
   ]
  },
  {
   "cell_type": "code",
   "execution_count": 27,
   "id": "5adac17c",
   "metadata": {},
   "outputs": [
    {
     "data": {
      "text/plain": [
       "'목'"
      ]
     },
     "execution_count": 27,
     "metadata": {},
     "output_type": "execute_result"
    }
   ],
   "source": [
    "week_dict = {0: '월', 1: '화', 3: '목'}\n",
    "# datetime\n",
    "import datetime\n",
    "dt = datetime.datetime.now()\n",
    "week = dt.weekday()\n",
    "week_dict[week]"
   ]
  },
  {
   "cell_type": "code",
   "execution_count": 54,
   "id": "705623bc",
   "metadata": {},
   "outputs": [
    {
     "data": {
      "text/plain": [
       "4.038070163864257"
      ]
     },
     "execution_count": 54,
     "metadata": {},
     "output_type": "execute_result"
    }
   ],
   "source": [
    "# random.random()\n",
    "# 0.0 <= X < 1.0   => X 0.999999999999999\n",
    "# 주사위를 던지는 상황 1 ~ 6\n",
    "import random\n",
    "num = random.random()\n",
    "num = num * 6  #  0 ~ 5.99999999999999999999\n",
    "num = int(num)  # 소수점 없애기 0 ~ 5\n",
    "num = num + 1   # 1 ~ 6"
   ]
  },
  {
   "cell_type": "code",
   "execution_count": 55,
   "id": "8d2c42d8",
   "metadata": {},
   "outputs": [
    {
     "data": {
      "text/plain": [
       "3"
      ]
     },
     "execution_count": 55,
     "metadata": {},
     "output_type": "execute_result"
    }
   ],
   "source": [
    "# 잘못된 코드 결과는 항상 1\n",
    "num = int(random.random()) * 6 + 1\n",
    "num"
   ]
  },
  {
   "cell_type": "code",
   "execution_count": 63,
   "id": "aaabfba7",
   "metadata": {},
   "outputs": [
    {
     "data": {
      "text/plain": [
       "4"
      ]
     },
     "execution_count": 63,
     "metadata": {},
     "output_type": "execute_result"
    }
   ],
   "source": [
    "num = int(random.random() * 6) + 1\n",
    "num"
   ]
  },
  {
   "cell_type": "code",
   "execution_count": 64,
   "id": "bc543fba",
   "metadata": {
    "collapsed": true
   },
   "outputs": [
    {
     "data": {
      "text/plain": [
       "[1,\n",
       " 2,\n",
       " 3,\n",
       " 4,\n",
       " 5,\n",
       " 6,\n",
       " 7,\n",
       " 8,\n",
       " 9,\n",
       " 10,\n",
       " 11,\n",
       " 12,\n",
       " 13,\n",
       " 14,\n",
       " 15,\n",
       " 16,\n",
       " 17,\n",
       " 18,\n",
       " 19,\n",
       " 20,\n",
       " 21,\n",
       " 22,\n",
       " 23,\n",
       " 24,\n",
       " 25]"
      ]
     },
     "execution_count": 64,
     "metadata": {},
     "output_type": "execute_result"
    }
   ],
   "source": [
    "# 1 ~ 25 빙고판 만들기\n",
    "# '01'과 같이 문자열로 표현하려면 조건부표현식\n",
    "bingo = [  i for i in range(1, 26)  ]\n",
    "bingo"
   ]
  },
  {
   "cell_type": "code",
   "execution_count": 73,
   "id": "019ac970",
   "metadata": {
    "collapsed": true
   },
   "outputs": [
    {
     "data": {
      "text/plain": [
       "[13,\n",
       " 19,\n",
       " 18,\n",
       " 22,\n",
       " 15,\n",
       " 25,\n",
       " 8,\n",
       " 12,\n",
       " 2,\n",
       " 6,\n",
       " 17,\n",
       " 10,\n",
       " 11,\n",
       " 5,\n",
       " 9,\n",
       " 1,\n",
       " 14,\n",
       " 7,\n",
       " 4,\n",
       " 3,\n",
       " 21,\n",
       " 20,\n",
       " 16,\n",
       " 23,\n",
       " 24]"
      ]
     },
     "execution_count": 73,
     "metadata": {},
     "output_type": "execute_result"
    }
   ],
   "source": [
    "random.shuffle(bingo)\n",
    "bingo"
   ]
  },
  {
   "cell_type": "code",
   "execution_count": 77,
   "id": "551bfc6a",
   "metadata": {},
   "outputs": [
    {
     "name": "stdout",
     "output_type": "stream",
     "text": [
      "13 19 18 22 15 \n",
      "25 8 12 2 6 \n",
      "17 10 11 5 9 \n",
      "1 14 7 4 3 \n",
      "21 20 16 23 24 \n"
     ]
    }
   ],
   "source": [
    "for i, e in enumerate(bingo):\n",
    "    print(e, end=' ')\n",
    "    if (i+1) % 5 == 0: print()"
   ]
  }
 ],
 "metadata": {
  "kernelspec": {
   "display_name": "Python 3 (ipykernel)",
   "language": "python",
   "name": "python3"
  },
  "language_info": {
   "codemirror_mode": {
    "name": "ipython",
    "version": 3
   },
   "file_extension": ".py",
   "mimetype": "text/x-python",
   "name": "python",
   "nbconvert_exporter": "python",
   "pygments_lexer": "ipython3",
   "version": "3.9.7"
  }
 },
 "nbformat": 4,
 "nbformat_minor": 5
}
